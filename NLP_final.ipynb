{
 "cells": [
  {
   "cell_type": "code",
   "execution_count": 85,
   "id": "ffd20fb3",
   "metadata": {},
   "outputs": [
    {
     "name": "stderr",
     "output_type": "stream",
     "text": [
      "[nltk_data] Downloading package wordnet to\n",
      "[nltk_data]     C:\\Users\\Honda\\AppData\\Roaming\\nltk_data...\n",
      "[nltk_data]   Package wordnet is already up-to-date!\n"
     ]
    }
   ],
   "source": [
    "import pandas as pd \n",
    "import re\n",
    "from sklearn.feature_extraction.text import CountVectorizer,TfidfVectorizer\n",
    "from nltk.stem import WordNetLemmatizer\n",
    "import nltk\n",
    "nltk.download('wordnet')\n",
    "from nltk.corpus import wordnet\n",
    "import keras\n",
    "import tensorflow as tf\n",
    "from imblearn.over_sampling import SMOTE\n",
    "import spacy\n",
    "import tqdm\n",
    "import numpy as np\n",
    "import json\n",
    "from tensorflow.keras.utils import to_categorical\n",
    "from keras.preprocessing.text import Tokenizer"
   ]
  },
  {
   "cell_type": "markdown",
   "id": "d79c1be7",
   "metadata": {},
   "source": [
    "# Read_data "
   ]
  },
  {
   "cell_type": "code",
   "execution_count": 86,
   "id": "030f0aef",
   "metadata": {},
   "outputs": [],
   "source": [
    "df = pd.read_json(\"News_Dataset.json\",orient='columns', lines=True)\n",
    "\n",
    "df=df[['category','headline','short_description']]"
   ]
  },
  {
   "cell_type": "code",
   "execution_count": 87,
   "id": "3aacc85e",
   "metadata": {},
   "outputs": [
    {
     "data": {
      "text/html": [
       "<div>\n",
       "<style scoped>\n",
       "    .dataframe tbody tr th:only-of-type {\n",
       "        vertical-align: middle;\n",
       "    }\n",
       "\n",
       "    .dataframe tbody tr th {\n",
       "        vertical-align: top;\n",
       "    }\n",
       "\n",
       "    .dataframe thead th {\n",
       "        text-align: right;\n",
       "    }\n",
       "</style>\n",
       "<table border=\"1\" class=\"dataframe\">\n",
       "  <thead>\n",
       "    <tr style=\"text-align: right;\">\n",
       "      <th></th>\n",
       "      <th>category</th>\n",
       "      <th>headline</th>\n",
       "      <th>short_description</th>\n",
       "    </tr>\n",
       "  </thead>\n",
       "  <tbody>\n",
       "    <tr>\n",
       "      <th>0</th>\n",
       "      <td>CRIME</td>\n",
       "      <td>There Were 2 Mass Shootings In Texas Last Week...</td>\n",
       "      <td>She left her husband. He killed their children...</td>\n",
       "    </tr>\n",
       "    <tr>\n",
       "      <th>1</th>\n",
       "      <td>ENTERTAINMENT</td>\n",
       "      <td>Will Smith Joins Diplo And Nicky Jam For The 2...</td>\n",
       "      <td>Of course it has a song.</td>\n",
       "    </tr>\n",
       "    <tr>\n",
       "      <th>2</th>\n",
       "      <td>ENTERTAINMENT</td>\n",
       "      <td>Hugh Grant Marries For The First Time At Age 57</td>\n",
       "      <td>The actor and his longtime girlfriend Anna Ebe...</td>\n",
       "    </tr>\n",
       "    <tr>\n",
       "      <th>3</th>\n",
       "      <td>ENTERTAINMENT</td>\n",
       "      <td>Jim Carrey Blasts 'Castrato' Adam Schiff And D...</td>\n",
       "      <td>The actor gives Dems an ass-kicking for not fi...</td>\n",
       "    </tr>\n",
       "    <tr>\n",
       "      <th>4</th>\n",
       "      <td>ENTERTAINMENT</td>\n",
       "      <td>Julianna Margulies Uses Donald Trump Poop Bags...</td>\n",
       "      <td>The \"Dietland\" actress said using the bags is ...</td>\n",
       "    </tr>\n",
       "  </tbody>\n",
       "</table>\n",
       "</div>"
      ],
      "text/plain": [
       "        category                                           headline  \\\n",
       "0          CRIME  There Were 2 Mass Shootings In Texas Last Week...   \n",
       "1  ENTERTAINMENT  Will Smith Joins Diplo And Nicky Jam For The 2...   \n",
       "2  ENTERTAINMENT    Hugh Grant Marries For The First Time At Age 57   \n",
       "3  ENTERTAINMENT  Jim Carrey Blasts 'Castrato' Adam Schiff And D...   \n",
       "4  ENTERTAINMENT  Julianna Margulies Uses Donald Trump Poop Bags...   \n",
       "\n",
       "                                   short_description  \n",
       "0  She left her husband. He killed their children...  \n",
       "1                           Of course it has a song.  \n",
       "2  The actor and his longtime girlfriend Anna Ebe...  \n",
       "3  The actor gives Dems an ass-kicking for not fi...  \n",
       "4  The \"Dietland\" actress said using the bags is ...  "
      ]
     },
     "execution_count": 87,
     "metadata": {},
     "output_type": "execute_result"
    }
   ],
   "source": [
    "df.head()"
   ]
  },
  {
   "cell_type": "code",
   "execution_count": 88,
   "id": "9165a3e7",
   "metadata": {},
   "outputs": [],
   "source": [
    "df['text']=df['headline']+' '+df['short_description']"
   ]
  },
  {
   "cell_type": "code",
   "execution_count": 89,
   "id": "d88f3bf0",
   "metadata": {},
   "outputs": [],
   "source": [
    "df=df[['category','text']]"
   ]
  },
  {
   "cell_type": "code",
   "execution_count": 90,
   "id": "943cb88a",
   "metadata": {},
   "outputs": [
    {
     "data": {
      "text/html": [
       "<div>\n",
       "<style scoped>\n",
       "    .dataframe tbody tr th:only-of-type {\n",
       "        vertical-align: middle;\n",
       "    }\n",
       "\n",
       "    .dataframe tbody tr th {\n",
       "        vertical-align: top;\n",
       "    }\n",
       "\n",
       "    .dataframe thead th {\n",
       "        text-align: right;\n",
       "    }\n",
       "</style>\n",
       "<table border=\"1\" class=\"dataframe\">\n",
       "  <thead>\n",
       "    <tr style=\"text-align: right;\">\n",
       "      <th></th>\n",
       "      <th>category</th>\n",
       "      <th>text</th>\n",
       "    </tr>\n",
       "  </thead>\n",
       "  <tbody>\n",
       "    <tr>\n",
       "      <th>0</th>\n",
       "      <td>CRIME</td>\n",
       "      <td>There Were 2 Mass Shootings In Texas Last Week...</td>\n",
       "    </tr>\n",
       "    <tr>\n",
       "      <th>1</th>\n",
       "      <td>ENTERTAINMENT</td>\n",
       "      <td>Will Smith Joins Diplo And Nicky Jam For The 2...</td>\n",
       "    </tr>\n",
       "    <tr>\n",
       "      <th>2</th>\n",
       "      <td>ENTERTAINMENT</td>\n",
       "      <td>Hugh Grant Marries For The First Time At Age 5...</td>\n",
       "    </tr>\n",
       "    <tr>\n",
       "      <th>3</th>\n",
       "      <td>ENTERTAINMENT</td>\n",
       "      <td>Jim Carrey Blasts 'Castrato' Adam Schiff And D...</td>\n",
       "    </tr>\n",
       "    <tr>\n",
       "      <th>4</th>\n",
       "      <td>ENTERTAINMENT</td>\n",
       "      <td>Julianna Margulies Uses Donald Trump Poop Bags...</td>\n",
       "    </tr>\n",
       "  </tbody>\n",
       "</table>\n",
       "</div>"
      ],
      "text/plain": [
       "        category                                               text\n",
       "0          CRIME  There Were 2 Mass Shootings In Texas Last Week...\n",
       "1  ENTERTAINMENT  Will Smith Joins Diplo And Nicky Jam For The 2...\n",
       "2  ENTERTAINMENT  Hugh Grant Marries For The First Time At Age 5...\n",
       "3  ENTERTAINMENT  Jim Carrey Blasts 'Castrato' Adam Schiff And D...\n",
       "4  ENTERTAINMENT  Julianna Margulies Uses Donald Trump Poop Bags..."
      ]
     },
     "execution_count": 90,
     "metadata": {},
     "output_type": "execute_result"
    }
   ],
   "source": [
    "df.head()"
   ]
  },
  {
   "cell_type": "code",
   "execution_count": 91,
   "id": "39c194d8",
   "metadata": {},
   "outputs": [],
   "source": [
    "from sklearn.preprocessing import LabelEncoder\n",
    "LE=LabelEncoder()\n",
    "LE.fit(df['category'])\n",
    "df['category']=LE.transform(df['category'])"
   ]
  },
  {
   "cell_type": "code",
   "execution_count": 92,
   "id": "357e74ae",
   "metadata": {},
   "outputs": [
    {
     "data": {
      "text/html": [
       "<div>\n",
       "<style scoped>\n",
       "    .dataframe tbody tr th:only-of-type {\n",
       "        vertical-align: middle;\n",
       "    }\n",
       "\n",
       "    .dataframe tbody tr th {\n",
       "        vertical-align: top;\n",
       "    }\n",
       "\n",
       "    .dataframe thead th {\n",
       "        text-align: right;\n",
       "    }\n",
       "</style>\n",
       "<table border=\"1\" class=\"dataframe\">\n",
       "  <thead>\n",
       "    <tr style=\"text-align: right;\">\n",
       "      <th></th>\n",
       "      <th>category</th>\n",
       "      <th>text</th>\n",
       "    </tr>\n",
       "  </thead>\n",
       "  <tbody>\n",
       "    <tr>\n",
       "      <th>0</th>\n",
       "      <td>6</td>\n",
       "      <td>There Were 2 Mass Shootings In Texas Last Week...</td>\n",
       "    </tr>\n",
       "    <tr>\n",
       "      <th>1</th>\n",
       "      <td>10</td>\n",
       "      <td>Will Smith Joins Diplo And Nicky Jam For The 2...</td>\n",
       "    </tr>\n",
       "    <tr>\n",
       "      <th>2</th>\n",
       "      <td>10</td>\n",
       "      <td>Hugh Grant Marries For The First Time At Age 5...</td>\n",
       "    </tr>\n",
       "    <tr>\n",
       "      <th>3</th>\n",
       "      <td>10</td>\n",
       "      <td>Jim Carrey Blasts 'Castrato' Adam Schiff And D...</td>\n",
       "    </tr>\n",
       "    <tr>\n",
       "      <th>4</th>\n",
       "      <td>10</td>\n",
       "      <td>Julianna Margulies Uses Donald Trump Poop Bags...</td>\n",
       "    </tr>\n",
       "    <tr>\n",
       "      <th>...</th>\n",
       "      <td>...</td>\n",
       "      <td>...</td>\n",
       "    </tr>\n",
       "    <tr>\n",
       "      <th>200848</th>\n",
       "      <td>32</td>\n",
       "      <td>RIM CEO Thorsten Heins' 'Significant' Plans Fo...</td>\n",
       "    </tr>\n",
       "    <tr>\n",
       "      <th>200849</th>\n",
       "      <td>28</td>\n",
       "      <td>Maria Sharapova Stunned By Victoria Azarenka I...</td>\n",
       "    </tr>\n",
       "    <tr>\n",
       "      <th>200850</th>\n",
       "      <td>28</td>\n",
       "      <td>Giants Over Patriots, Jets Over Colts Among  M...</td>\n",
       "    </tr>\n",
       "    <tr>\n",
       "      <th>200851</th>\n",
       "      <td>28</td>\n",
       "      <td>Aldon Smith Arrested: 49ers Linebacker Busted ...</td>\n",
       "    </tr>\n",
       "    <tr>\n",
       "      <th>200852</th>\n",
       "      <td>28</td>\n",
       "      <td>Dwight Howard Rips Teammates After Magic Loss ...</td>\n",
       "    </tr>\n",
       "  </tbody>\n",
       "</table>\n",
       "<p>200853 rows × 2 columns</p>\n",
       "</div>"
      ],
      "text/plain": [
       "        category                                               text\n",
       "0              6  There Were 2 Mass Shootings In Texas Last Week...\n",
       "1             10  Will Smith Joins Diplo And Nicky Jam For The 2...\n",
       "2             10  Hugh Grant Marries For The First Time At Age 5...\n",
       "3             10  Jim Carrey Blasts 'Castrato' Adam Schiff And D...\n",
       "4             10  Julianna Margulies Uses Donald Trump Poop Bags...\n",
       "...          ...                                                ...\n",
       "200848        32  RIM CEO Thorsten Heins' 'Significant' Plans Fo...\n",
       "200849        28  Maria Sharapova Stunned By Victoria Azarenka I...\n",
       "200850        28  Giants Over Patriots, Jets Over Colts Among  M...\n",
       "200851        28  Aldon Smith Arrested: 49ers Linebacker Busted ...\n",
       "200852        28  Dwight Howard Rips Teammates After Magic Loss ...\n",
       "\n",
       "[200853 rows x 2 columns]"
      ]
     },
     "execution_count": 92,
     "metadata": {},
     "output_type": "execute_result"
    }
   ],
   "source": [
    "df"
   ]
  },
  {
   "cell_type": "markdown",
   "id": "969eb2c0",
   "metadata": {},
   "source": [
    "# EDA"
   ]
  },
  {
   "cell_type": "code",
   "execution_count": 93,
   "id": "3cce7293",
   "metadata": {},
   "outputs": [
    {
     "data": {
      "text/plain": [
       "(200853, 2)"
      ]
     },
     "execution_count": 93,
     "metadata": {},
     "output_type": "execute_result"
    }
   ],
   "source": [
    "df.shape"
   ]
  },
  {
   "cell_type": "code",
   "execution_count": 94,
   "id": "bf16035d",
   "metadata": {},
   "outputs": [
    {
     "data": {
      "text/plain": [
       "41"
      ]
     },
     "execution_count": 94,
     "metadata": {},
     "output_type": "execute_result"
    }
   ],
   "source": [
    "len(df['category'].unique())"
   ]
  },
  {
   "cell_type": "code",
   "execution_count": 95,
   "id": "8a2f17db",
   "metadata": {},
   "outputs": [],
   "source": [
    "#df=df.iloc[:100000,:]"
   ]
  },
  {
   "cell_type": "code",
   "execution_count": 96,
   "id": "72b3a161",
   "metadata": {},
   "outputs": [
    {
     "data": {
      "text/plain": [
       "(200853, 2)"
      ]
     },
     "execution_count": 96,
     "metadata": {},
     "output_type": "execute_result"
    }
   ],
   "source": [
    "df.shape"
   ]
  },
  {
   "cell_type": "markdown",
   "id": "272f00c3",
   "metadata": {},
   "source": [
    "Class_counts"
   ]
  },
  {
   "cell_type": "code",
   "execution_count": 97,
   "id": "6c3178fa",
   "metadata": {},
   "outputs": [
    {
     "data": {
      "text/plain": [
       "24    32739\n",
       "37    17827\n",
       "10    16058\n",
       "34     9887\n",
       "30     9649\n",
       "22     8677\n",
       "16     6694\n",
       "25     6314\n",
       "13     6226\n",
       "3      5937\n",
       "5      5175\n",
       "28     4884\n",
       "2      4528\n",
       "17     4195\n",
       "23     3955\n",
       "33     3664\n",
       "35     3651\n",
       "38     3490\n",
       "18     3459\n",
       "8      3426\n",
       "6      3405\n",
       "20     2815\n",
       "36     2670\n",
       "15     2622\n",
       "40     2579\n",
       "26     2556\n",
       "29     2254\n",
       "27     2178\n",
       "39     2177\n",
       "31     2096\n",
       "32     2082\n",
       "21     1707\n",
       "0      1509\n",
       "12     1401\n",
       "14     1398\n",
       "1      1339\n",
       "11     1323\n",
       "4      1144\n",
       "19     1129\n",
       "7      1030\n",
       "9      1004\n",
       "Name: category, dtype: int64"
      ]
     },
     "execution_count": 97,
     "metadata": {},
     "output_type": "execute_result"
    }
   ],
   "source": [
    "df['category'].value_counts()"
   ]
  },
  {
   "cell_type": "markdown",
   "id": "4849f431",
   "metadata": {},
   "source": [
    "Check_for_nans"
   ]
  },
  {
   "cell_type": "code",
   "execution_count": 98,
   "id": "9ddfc329",
   "metadata": {},
   "outputs": [
    {
     "data": {
      "text/plain": [
       "category    False\n",
       "text        False\n",
       "dtype: bool"
      ]
     },
     "execution_count": 98,
     "metadata": {},
     "output_type": "execute_result"
    }
   ],
   "source": [
    "df.isna().any()"
   ]
  },
  {
   "cell_type": "markdown",
   "id": "7a3d1e1e",
   "metadata": {},
   "source": [
    "Check for duplicates"
   ]
  },
  {
   "cell_type": "code",
   "execution_count": 99,
   "id": "d2c30b42",
   "metadata": {},
   "outputs": [
    {
     "data": {
      "text/plain": [
       "True"
      ]
     },
     "execution_count": 99,
     "metadata": {},
     "output_type": "execute_result"
    }
   ],
   "source": [
    "df.duplicated().any()"
   ]
  },
  {
   "cell_type": "code",
   "execution_count": 100,
   "id": "f045b805",
   "metadata": {},
   "outputs": [],
   "source": [
    "df.drop_duplicates(inplace=True)"
   ]
  },
  {
   "cell_type": "markdown",
   "id": "914597f7",
   "metadata": {},
   "source": [
    "# Preprocessing"
   ]
  },
  {
   "cell_type": "code",
   "execution_count": 101,
   "id": "9bc4e681",
   "metadata": {},
   "outputs": [
    {
     "data": {
      "text/plain": [
       "10089     Will Ferrell Breaks Into The Kardashian House ...\n",
       "197766    My Kids Will Cost Me Close to a Million Dollar...\n",
       "88493     Experts: What Nepal Needs Most To Stem Baby De...\n",
       "121965        Apparently This Is Hollywood's Richest Actor \n",
       "Name: text, dtype: object"
      ]
     },
     "execution_count": 101,
     "metadata": {},
     "output_type": "execute_result"
    }
   ],
   "source": [
    "df['text'].sample(4)"
   ]
  },
  {
   "cell_type": "markdown",
   "id": "dd687fd3",
   "metadata": {},
   "source": [
    "check for mails"
   ]
  },
  {
   "cell_type": "code",
   "execution_count": 102,
   "id": "a1b4e1f0",
   "metadata": {},
   "outputs": [
    {
     "data": {
      "text/plain": [
       "True"
      ]
     },
     "execution_count": 102,
     "metadata": {},
     "output_type": "execute_result"
    }
   ],
   "source": [
    "df['text'].apply(lambda x: re.findall('\\S+@\\S+',x)).any()"
   ]
  },
  {
   "cell_type": "code",
   "execution_count": 103,
   "id": "f32f26bd",
   "metadata": {},
   "outputs": [],
   "source": [
    "df['text']=df['text'].apply(lambda x: re.sub('\\S+@\\S+',' ',x))"
   ]
  },
  {
   "cell_type": "markdown",
   "id": "0d5b66d9",
   "metadata": {},
   "source": [
    "check for websites"
   ]
  },
  {
   "cell_type": "code",
   "execution_count": 104,
   "id": "4c02b005",
   "metadata": {},
   "outputs": [
    {
     "data": {
      "text/plain": [
       "True"
      ]
     },
     "execution_count": 104,
     "metadata": {},
     "output_type": "execute_result"
    }
   ],
   "source": [
    "df['text'].apply(lambda x: re.findall(r'http\\S+',x)).any()"
   ]
  },
  {
   "cell_type": "code",
   "execution_count": 105,
   "id": "e6196f5d",
   "metadata": {},
   "outputs": [],
   "source": [
    "df['text']=df['text'].apply(lambda x: re.sub(r'http\\S+',' ',x))"
   ]
  },
  {
   "cell_type": "markdown",
   "id": "38ec75b9",
   "metadata": {},
   "source": [
    "remove non char signs"
   ]
  },
  {
   "cell_type": "code",
   "execution_count": 106,
   "id": "516fdd0d",
   "metadata": {},
   "outputs": [
    {
     "data": {
      "text/plain": [
       "0         There Were 2 Mass Shootings In Texas Last Week...\n",
       "1         Will Smith Joins Diplo And Nicky Jam For The 2...\n",
       "2         Hugh Grant Marries For The First Time At Age 5...\n",
       "3         Jim Carrey Blasts  Castrato  Adam Schiff And D...\n",
       "4         Julianna Margulies Uses Donald Trump Poop Bags...\n",
       "                                ...                        \n",
       "200848    RIM CEO Thorsten Heins   Significant  Plans Fo...\n",
       "200849    Maria Sharapova Stunned By Victoria Azarenka I...\n",
       "200850    Giants Over Patriots  Jets Over Colts Among  M...\n",
       "200851    Aldon Smith Arrested  49ers Linebacker Busted ...\n",
       "200852    Dwight Howard Rips Teammates After Magic Loss ...\n",
       "Name: text, Length: 200383, dtype: object"
      ]
     },
     "execution_count": 106,
     "metadata": {},
     "output_type": "execute_result"
    }
   ],
   "source": [
    "df['text']= df['text'].apply(lambda x : re.sub(r'[^A-Za-z0-9]', ' ', x))\n",
    "df['text']"
   ]
  },
  {
   "cell_type": "markdown",
   "id": "a5bab70c",
   "metadata": {},
   "source": [
    "Normalize_words"
   ]
  },
  {
   "cell_type": "code",
   "execution_count": 107,
   "id": "d120c78a",
   "metadata": {},
   "outputs": [
    {
     "data": {
      "text/plain": [
       "0         there were 2 mass shootings in texas last week...\n",
       "1         will smith joins diplo and nicky jam for the 2...\n",
       "2         hugh grant marries for the first time at age 5...\n",
       "3         jim carrey blasts  castrato  adam schiff and d...\n",
       "4         julianna margulies uses donald trump poop bags...\n",
       "                                ...                        \n",
       "200848    rim ceo thorsten heins   significant  plans fo...\n",
       "200849    maria sharapova stunned by victoria azarenka i...\n",
       "200850    giants over patriots  jets over colts among  m...\n",
       "200851    aldon smith arrested  49ers linebacker busted ...\n",
       "200852    dwight howard rips teammates after magic loss ...\n",
       "Name: text, Length: 200383, dtype: object"
      ]
     },
     "execution_count": 107,
     "metadata": {},
     "output_type": "execute_result"
    }
   ],
   "source": [
    "df['text']=df['text'].apply(lambda x:x.lower())\n",
    "df['text']"
   ]
  },
  {
   "cell_type": "markdown",
   "id": "aee5bddf",
   "metadata": {},
   "source": [
    "Remove_stop_words"
   ]
  },
  {
   "cell_type": "code",
   "execution_count": 108,
   "id": "701705ee",
   "metadata": {},
   "outputs": [
    {
     "name": "stderr",
     "output_type": "stream",
     "text": [
      "[nltk_data] Downloading package stopwords to\n",
      "[nltk_data]     C:\\Users\\Honda\\AppData\\Roaming\\nltk_data...\n",
      "[nltk_data]   Package stopwords is already up-to-date!\n"
     ]
    },
    {
     "data": {
      "text/plain": [
       "True"
      ]
     },
     "execution_count": 108,
     "metadata": {},
     "output_type": "execute_result"
    }
   ],
   "source": [
    "import nltk\n",
    "from nltk.corpus import stopwords\n",
    "nltk.download('stopwords')"
   ]
  },
  {
   "cell_type": "code",
   "execution_count": 109,
   "id": "1b266a12",
   "metadata": {},
   "outputs": [],
   "source": [
    "stop_words=stopwords.words('english')"
   ]
  },
  {
   "cell_type": "code",
   "execution_count": 110,
   "id": "09e6a485",
   "metadata": {},
   "outputs": [],
   "source": [
    "df['text']=df['text'].apply(lambda x :[ word for word in x.split() if word not in stop_words])\n"
   ]
  },
  {
   "cell_type": "code",
   "execution_count": 111,
   "id": "c06ffa01",
   "metadata": {},
   "outputs": [
    {
     "data": {
      "text/plain": [
       "0         [2, mass, shootings, texas, last, week, 1, tv,...\n",
       "1         [smith, joins, diplo, nicky, jam, 2018, world,...\n",
       "2         [hugh, grant, marries, first, time, age, 57, a...\n",
       "3         [jim, carrey, blasts, castrato, adam, schiff, ...\n",
       "4         [julianna, margulies, uses, donald, trump, poo...\n",
       "                                ...                        \n",
       "200848    [rim, ceo, thorsten, heins, significant, plans...\n",
       "200849    [maria, sharapova, stunned, victoria, azarenka...\n",
       "200850    [giants, patriots, jets, colts, among, improba...\n",
       "200851    [aldon, smith, arrested, 49ers, linebacker, bu...\n",
       "200852    [dwight, howard, rips, teammates, magic, loss,...\n",
       "Name: text, Length: 200383, dtype: object"
      ]
     },
     "execution_count": 111,
     "metadata": {},
     "output_type": "execute_result"
    }
   ],
   "source": [
    "df['text']"
   ]
  },
  {
   "cell_type": "code",
   "execution_count": 112,
   "id": "83b0711e",
   "metadata": {},
   "outputs": [],
   "source": [
    "pos_tags = [wordnet.VERB, wordnet.NOUN, wordnet.ADJ, wordnet.ADV]\n",
    "lemmatizer = WordNetLemmatizer()\n",
    "for pos in pos_tags:\n",
    "   df['text']=df['text'].apply(lambda x:[lemmatizer.lemmatize(word, pos=pos) for word in x])"
   ]
  },
  {
   "cell_type": "code",
   "execution_count": 113,
   "id": "ece2826e",
   "metadata": {},
   "outputs": [
    {
     "data": {
      "text/plain": [
       "0         [2, mass, shoot, texas, last, week, 1, tv, lea...\n",
       "1         [smith, join, diplo, nicky, jam, 2018, world, ...\n",
       "2         [hugh, grant, marry, first, time, age, 57, act...\n",
       "3         [jim, carrey, blast, castrato, adam, schiff, d...\n",
       "4         [julianna, margulies, use, donald, trump, poop...\n",
       "                                ...                        \n",
       "200848    [rim, ceo, thorsten, heins, significant, plan,...\n",
       "200849    [maria, sharapova, stun, victoria, azarenka, a...\n",
       "200850    [giant, patriot, jet, colt, among, improbable,...\n",
       "200851    [aldon, smith, arrest, 49ers, linebacker, bust...\n",
       "200852    [dwight, howard, rip, teammate, magic, loss, h...\n",
       "Name: text, Length: 200383, dtype: object"
      ]
     },
     "execution_count": 113,
     "metadata": {},
     "output_type": "execute_result"
    }
   ],
   "source": [
    "df['text']"
   ]
  },
  {
   "cell_type": "code",
   "execution_count": 114,
   "id": "ba233228",
   "metadata": {},
   "outputs": [],
   "source": [
    "df['text']=df['text'].apply(lambda x: ' '.join(x))"
   ]
  },
  {
   "cell_type": "code",
   "execution_count": 115,
   "id": "2d1fffff",
   "metadata": {},
   "outputs": [
    {
     "data": {
      "text/plain": [
       "0         2 mass shoot texas last week 1 tv leave husban...\n",
       "1         smith join diplo nicky jam 2018 world cup offi...\n",
       "2         hugh grant marry first time age 57 actor longt...\n",
       "3         jim carrey blast castrato adam schiff democrat...\n",
       "4         julianna margulies use donald trump poop bag p...\n",
       "                                ...                        \n",
       "200848    rim ceo thorsten heins significant plan blackb...\n",
       "200849    maria sharapova stun victoria azarenka austral...\n",
       "200850    giant patriot jet colt among improbable super ...\n",
       "200851    aldon smith arrest 49ers linebacker bust duo c...\n",
       "200852    dwight howard rip teammate magic loss hornet f...\n",
       "Name: text, Length: 200383, dtype: object"
      ]
     },
     "execution_count": 115,
     "metadata": {},
     "output_type": "execute_result"
    }
   ],
   "source": [
    "df['text']"
   ]
  },
  {
   "cell_type": "markdown",
   "id": "d23d6f1b",
   "metadata": {},
   "source": [
    "# Split_data"
   ]
  },
  {
   "cell_type": "code",
   "execution_count": 116,
   "id": "e18d512b",
   "metadata": {},
   "outputs": [],
   "source": [
    "from sklearn.model_selection import train_test_split\n",
    "target=df['category']\n",
    "x_train, x_test ,y_train ,y_test = train_test_split(df['text'],target,test_size=0.1,stratify=target)"
   ]
  },
  {
   "cell_type": "code",
   "execution_count": 117,
   "id": "11fa0d73",
   "metadata": {},
   "outputs": [],
   "source": [
    "train_labels = to_categorical(y_train)\n",
    "test_labels = to_categorical(y_test)"
   ]
  },
  {
   "cell_type": "markdown",
   "id": "69646164",
   "metadata": {},
   "source": [
    "# Modeling"
   ]
  },
  {
   "cell_type": "markdown",
   "id": "966fc561",
   "metadata": {},
   "source": [
    "# Tokenizer+GRUArchitecture"
   ]
  },
  {
   "cell_type": "code",
   "execution_count": 118,
   "id": "fd4791ce",
   "metadata": {},
   "outputs": [],
   "source": [
    "tokenizer=Tokenizer(num_words=10000,oov_token='<OOV>',)\n",
    "tokenizer.fit_on_texts(x_train)"
   ]
  },
  {
   "cell_type": "code",
   "execution_count": 119,
   "id": "33c94e5f",
   "metadata": {},
   "outputs": [
    {
     "data": {
      "text/plain": [
       "{'<OOV>': 1,\n",
       " 'say': 2,\n",
       " 'new': 3,\n",
       " 'trump': 4,\n",
       " 'make': 5,\n",
       " 'get': 6,\n",
       " 'one': 7,\n",
       " 'year': 8,\n",
       " 'u': 9,\n",
       " 'time': 10,\n",
       " 'photo': 11,\n",
       " 'day': 12,\n",
       " 'people': 13,\n",
       " 'like': 14,\n",
       " 'go': 15,\n",
       " 'take': 16,\n",
       " 'know': 17,\n",
       " 'way': 18,\n",
       " 'woman': 19,\n",
       " 'want': 20,\n",
       " 'good': 21,\n",
       " 'life': 22,\n",
       " 'world': 23,\n",
       " 'look': 24,\n",
       " 'need': 25,\n",
       " 'love': 26,\n",
       " 'find': 27,\n",
       " 'think': 28,\n",
       " 'thing': 29,\n",
       " 'first': 30,\n",
       " 'come': 31,\n",
       " 'live': 32,\n",
       " 'video': 33,\n",
       " 'show': 34,\n",
       " 'child': 35,\n",
       " 'week': 36,\n",
       " 'best': 37,\n",
       " 'see': 38,\n",
       " 'work': 39,\n",
       " 'help': 40,\n",
       " 'may': 41,\n",
       " 'would': 42,\n",
       " 'could': 43,\n",
       " 'right': 44,\n",
       " 'donald': 45,\n",
       " 'even': 46,\n",
       " 'many': 47,\n",
       " 'give': 48,\n",
       " 'kid': 49,\n",
       " 'state': 50,\n",
       " 'american': 51,\n",
       " 'back': 52,\n",
       " 'change': 53,\n",
       " 'use': 54,\n",
       " 'call': 55,\n",
       " 'old': 56,\n",
       " 'president': 57,\n",
       " 'family': 58,\n",
       " 'health': 59,\n",
       " 'two': 60,\n",
       " 'big': 61,\n",
       " 'home': 62,\n",
       " 'feel': 63,\n",
       " 'tell': 64,\n",
       " 'parent': 65,\n",
       " 'last': 66,\n",
       " 'much': 67,\n",
       " 'long': 68,\n",
       " 'food': 69,\n",
       " 'still': 70,\n",
       " '10': 71,\n",
       " 'really': 72,\n",
       " '5': 73,\n",
       " 'great': 74,\n",
       " 'house': 75,\n",
       " 'every': 76,\n",
       " 'school': 77,\n",
       " 'never': 78,\n",
       " 'talk': 79,\n",
       " 'try': 80,\n",
       " 'man': 81,\n",
       " 'bad': 82,\n",
       " 'star': 83,\n",
       " 'keep': 84,\n",
       " 'start': 85,\n",
       " 'also': 86,\n",
       " 'plan': 87,\n",
       " 'become': 88,\n",
       " 'america': 89,\n",
       " 'let': 90,\n",
       " 'little': 91,\n",
       " 'city': 92,\n",
       " 'mean': 93,\n",
       " 'watch': 94,\n",
       " 'white': 95,\n",
       " 'obama': 96,\n",
       " 'high': 97,\n",
       " 'well': 98,\n",
       " 'black': 99,\n",
       " 'study': 100,\n",
       " 'face': 101,\n",
       " 'news': 102,\n",
       " 'end': 103,\n",
       " 'story': 104,\n",
       " 'country': 105,\n",
       " 'leave': 106,\n",
       " 'ever': 107,\n",
       " 'ask': 108,\n",
       " 'learn': 109,\n",
       " 'mom': 110,\n",
       " 'wed': 111,\n",
       " 'late': 112,\n",
       " 'something': 113,\n",
       " 'part': 114,\n",
       " 'care': 115,\n",
       " 'around': 116,\n",
       " 'report': 117,\n",
       " 'turn': 118,\n",
       " 'lose': 119,\n",
       " 'place': 120,\n",
       " 'top': 121,\n",
       " 'style': 122,\n",
       " 'girl': 123,\n",
       " 'republican': 124,\n",
       " 'eat': 125,\n",
       " 'travel': 126,\n",
       " 'stop': 127,\n",
       " 'divorce': 128,\n",
       " 'month': 129,\n",
       " 'baby': 130,\n",
       " 'clinton': 131,\n",
       " 'real': 132,\n",
       " 'happen': 133,\n",
       " 'check': 134,\n",
       " 'open': 135,\n",
       " 'meet': 136,\n",
       " 'another': 137,\n",
       " 'friend': 138,\n",
       " 'question': 139,\n",
       " 'york': 140,\n",
       " 'mother': 141,\n",
       " 'run': 142,\n",
       " 'break': 143,\n",
       " 'shoot': 144,\n",
       " 'might': 145,\n",
       " 'night': 146,\n",
       " 'million': 147,\n",
       " 'gay': 148,\n",
       " 'share': 149,\n",
       " 'put': 150,\n",
       " 'move': 151,\n",
       " 'kill': 152,\n",
       " 'bring': 153,\n",
       " 'party': 154,\n",
       " 'today': 155,\n",
       " 'bill': 156,\n",
       " 'huffpost': 157,\n",
       " 'play': 158,\n",
       " 'reason': 159,\n",
       " 'game': 160,\n",
       " 'always': 161,\n",
       " 'men': 162,\n",
       " 'police': 163,\n",
       " 'next': 164,\n",
       " 'without': 165,\n",
       " 'moment': 166,\n",
       " 'win': 167,\n",
       " 'experience': 168,\n",
       " 'gop': 169,\n",
       " 'twitter': 170,\n",
       " 'fight': 171,\n",
       " 'fashion': 172,\n",
       " 'season': 173,\n",
       " 'war': 174,\n",
       " '1': 175,\n",
       " 'student': 176,\n",
       " 'death': 177,\n",
       " 'tip': 178,\n",
       " 'easy': 179,\n",
       " 'idea': 180,\n",
       " 'lead': 181,\n",
       " '3': 182,\n",
       " 'create': 183,\n",
       " 'holiday': 184,\n",
       " 'sleep': 185,\n",
       " 'pay': 186,\n",
       " 'sure': 187,\n",
       " 'dress': 188,\n",
       " 'seem': 189,\n",
       " '7': 190,\n",
       " 'hard': 191,\n",
       " 'heart': 192,\n",
       " 'three': 193,\n",
       " '2': 194,\n",
       " 'summer': 195,\n",
       " 'young': 196,\n",
       " 'read': 197,\n",
       " 'national': 198,\n",
       " 'support': 199,\n",
       " 'job': 200,\n",
       " 'lot': 201,\n",
       " 'post': 202,\n",
       " 'name': 203,\n",
       " 'marriage': 204,\n",
       " 'healthy': 205,\n",
       " 'since': 206,\n",
       " 'facebook': 207,\n",
       " 'body': 208,\n",
       " 'hear': 209,\n",
       " 'set': 210,\n",
       " 'law': 211,\n",
       " 'attack': 212,\n",
       " 'step': 213,\n",
       " 'campaign': 214,\n",
       " 'believe': 215,\n",
       " 'vote': 216,\n",
       " 'medium': 217,\n",
       " 'problem': 218,\n",
       " 'word': 219,\n",
       " 'deal': 220,\n",
       " 'fall': 221,\n",
       " 'free': 222,\n",
       " 'spend': 223,\n",
       " 'company': 224,\n",
       " 'court': 225,\n",
       " 'business': 226,\n",
       " 'write': 227,\n",
       " 'must': 228,\n",
       " 'film': 229,\n",
       " 'case': 230,\n",
       " 'election': 231,\n",
       " 'issue': 232,\n",
       " 'grow': 233,\n",
       " 'hillary': 234,\n",
       " 'often': 235,\n",
       " 'couple': 236,\n",
       " 'important': 237,\n",
       " 'cancer': 238,\n",
       " 'age': 239,\n",
       " 'money': 240,\n",
       " 'le': 241,\n",
       " 'head': 242,\n",
       " 'former': 243,\n",
       " 'art': 244,\n",
       " 'group': 245,\n",
       " 'away': 246,\n",
       " 'save': 247,\n",
       " 'happy': 248,\n",
       " 'power': 249,\n",
       " 'matter': 250,\n",
       " 'wear': 251,\n",
       " 'die': 252,\n",
       " 'history': 253,\n",
       " 'include': 254,\n",
       " 'begin': 255,\n",
       " 'recipe': 256,\n",
       " '6': 257,\n",
       " 'daughter': 258,\n",
       " 'list': 259,\n",
       " 'public': 260,\n",
       " 'hold': 261,\n",
       " 'book': 262,\n",
       " 'social': 263,\n",
       " 'follow': 264,\n",
       " 'whether': 265,\n",
       " 'community': 266,\n",
       " 'yet': 267,\n",
       " 'relationship': 268,\n",
       " 'mind': 269,\n",
       " 'challenge': 270,\n",
       " 'actually': 271,\n",
       " 'past': 272,\n",
       " 'enough': 273,\n",
       " 'everyone': 274,\n",
       " 'stand': 275,\n",
       " 'rule': 276,\n",
       " '000': 277,\n",
       " '4': 278,\n",
       " 'movie': 279,\n",
       " 'human': 280,\n",
       " 'college': 281,\n",
       " 'celebrate': 282,\n",
       " 'perfect': 283,\n",
       " 'climate': 284,\n",
       " 'person': 285,\n",
       " 'fear': 286,\n",
       " 'hit': 287,\n",
       " 'offer': 288,\n",
       " 'leader': 289,\n",
       " 'rise': 290,\n",
       " 'point': 291,\n",
       " 'favorite': 292,\n",
       " 'close': 293,\n",
       " 'son': 294,\n",
       " 'stress': 295,\n",
       " 'future': 296,\n",
       " 'self': 297,\n",
       " 'government': 298,\n",
       " 'sex': 299,\n",
       " 'someone': 300,\n",
       " 'everything': 301,\n",
       " 'continue': 302,\n",
       " 'claim': 303,\n",
       " 'five': 304,\n",
       " 'dog': 305,\n",
       " 'different': 306,\n",
       " 'fire': 307,\n",
       " 'build': 308,\n",
       " 'miss': 309,\n",
       " 'gun': 310,\n",
       " 'speak': 311,\n",
       " 'early': 312,\n",
       " '8': 313,\n",
       " 'surprise': 314,\n",
       " 'stay': 315,\n",
       " 'line': 316,\n",
       " 'together': 317,\n",
       " 'act': 318,\n",
       " 'others': 319,\n",
       " 'music': 320,\n",
       " 'second': 321,\n",
       " 'full': 322,\n",
       " 'fact': 323,\n",
       " 'dad': 324,\n",
       " 'least': 325,\n",
       " 'sign': 326,\n",
       " 'raise': 327,\n",
       " 'secret': 328,\n",
       " 'risk': 329,\n",
       " '2012': 330,\n",
       " 'reveal': 331,\n",
       " 'far': 332,\n",
       " 'anti': 333,\n",
       " 'date': 334,\n",
       " 'john': 335,\n",
       " 'accord': 336,\n",
       " 'teach': 337,\n",
       " 'morning': 338,\n",
       " 'political': 339,\n",
       " 'understand': 340,\n",
       " 'dream': 341,\n",
       " 'force': 342,\n",
       " 'tax': 343,\n",
       " 'small': 344,\n",
       " 'walk': 345,\n",
       " 'gift': 346,\n",
       " 'cut': 347,\n",
       " 'hand': 348,\n",
       " 'nothing': 349,\n",
       " 'release': 350,\n",
       " 'fan': 351,\n",
       " 'behind': 352,\n",
       " 'drink': 353,\n",
       " 'weekend': 354,\n",
       " 'boy': 355,\n",
       " 'team': 356,\n",
       " 'beauty': 357,\n",
       " 'cause': 358,\n",
       " 'water': 359,\n",
       " 'street': 360,\n",
       " 'remember': 361,\n",
       " 'order': 362,\n",
       " 'hotel': 363,\n",
       " 'buy': 364,\n",
       " 'unite': 365,\n",
       " 'inspire': 366,\n",
       " 'weight': 367,\n",
       " 'kind': 368,\n",
       " 'hour': 369,\n",
       " 'wrong': 370,\n",
       " 'low': 371,\n",
       " 'number': 372,\n",
       " 'father': 373,\n",
       " 'already': 374,\n",
       " 'race': 375,\n",
       " 'official': 376,\n",
       " '20': 377,\n",
       " 'eye': 378,\n",
       " 'ago': 379,\n",
       " 'cover': 380,\n",
       " 'red': 381,\n",
       " 'hope': 382,\n",
       " 'percent': 383,\n",
       " '9': 384,\n",
       " 'democrat': 385,\n",
       " 'simple': 386,\n",
       " 'visit': 387,\n",
       " '2013': 388,\n",
       " 'sometimes': 389,\n",
       " 'light': 390,\n",
       " 'nation': 391,\n",
       " 'dead': 392,\n",
       " 'true': 393,\n",
       " 'north': 394,\n",
       " 'control': 395,\n",
       " 'office': 396,\n",
       " 'action': 397,\n",
       " 'drug': 398,\n",
       " 'policy': 399,\n",
       " 'single': 400,\n",
       " 'teen': 401,\n",
       " 'guide': 402,\n",
       " 'host': 403,\n",
       " 'four': 404,\n",
       " 'test': 405,\n",
       " 'sit': 406,\n",
       " 'model': 407,\n",
       " 'sexual': 408,\n",
       " 'ban': 409,\n",
       " 'tv': 410,\n",
       " 'decision': 411,\n",
       " 'spring': 412,\n",
       " 'candidate': 413,\n",
       " 'hair': 414,\n",
       " 'expect': 415,\n",
       " 'consider': 416,\n",
       " 'debate': 417,\n",
       " 'super': 418,\n",
       " 'return': 419,\n",
       " 'award': 420,\n",
       " 'short': 421,\n",
       " 'choose': 422,\n",
       " 'side': 423,\n",
       " 'event': 424,\n",
       " 'record': 425,\n",
       " 'choice': 426,\n",
       " 'thank': 427,\n",
       " 'tweet': 428,\n",
       " '12': 429,\n",
       " 'send': 430,\n",
       " 'poll': 431,\n",
       " '2014': 432,\n",
       " 'hot': 433,\n",
       " 'focus': 434,\n",
       " 'base': 435,\n",
       " 'washington': 436,\n",
       " 'trip': 437,\n",
       " 'pick': 438,\n",
       " 'fail': 439,\n",
       " 'california': 440,\n",
       " 'market': 441,\n",
       " 'practice': 442,\n",
       " 'christmas': 443,\n",
       " 'pretty': 444,\n",
       " 'finally': 445,\n",
       " 'presidential': 446,\n",
       " 'major': 447,\n",
       " 'celebrity': 448,\n",
       " 'beautiful': 449,\n",
       " 'recent': 450,\n",
       " 'probably': 451,\n",
       " 'car': 452,\n",
       " 'friday': 453,\n",
       " 'senate': 454,\n",
       " 'series': 455,\n",
       " 'drive': 456,\n",
       " 'though': 457,\n",
       " 'system': 458,\n",
       " 'marry': 459,\n",
       " 'lesson': 460,\n",
       " 'allow': 461,\n",
       " 'voter': 462,\n",
       " 'daily': 463,\n",
       " 'large': 464,\n",
       " 'interview': 465,\n",
       " 'interest': 466,\n",
       " 'service': 467,\n",
       " 'minute': 468,\n",
       " 'almost': 469,\n",
       " 'room': 470,\n",
       " 'guy': 471,\n",
       " 'course': 472,\n",
       " 'wait': 473,\n",
       " '11': 474,\n",
       " 'answer': 475,\n",
       " 'fun': 476,\n",
       " 'violence': 477,\n",
       " 'honor': 478,\n",
       " 'color': 479,\n",
       " 'personal': 480,\n",
       " 'role': 481,\n",
       " 'across': 482,\n",
       " 'cost': 483,\n",
       " 'ready': 484,\n",
       " 'key': 485,\n",
       " 'email': 486,\n",
       " 'south': 487,\n",
       " 'shop': 488,\n",
       " 'artist': 489,\n",
       " 'explain': 490,\n",
       " 'yes': 491,\n",
       " 'common': 492,\n",
       " 'pas': 493,\n",
       " 'sander': 494,\n",
       " 'message': 495,\n",
       " 'likely': 496,\n",
       " 'space': 497,\n",
       " 'justice': 498,\n",
       " 'education': 499,\n",
       " 'security': 500,\n",
       " 'truth': 501,\n",
       " 'bear': 502,\n",
       " 'charge': 503,\n",
       " 'special': 504,\n",
       " 'director': 505,\n",
       " 'air': 506,\n",
       " 'wall': 507,\n",
       " 'husband': 508,\n",
       " 'member': 509,\n",
       " 'research': 510,\n",
       " 'view': 511,\n",
       " 'result': 512,\n",
       " 'jam': 513,\n",
       " '15': 514,\n",
       " 'reality': 515,\n",
       " 'letter': 516,\n",
       " 'do': 517,\n",
       " 'disease': 518,\n",
       " 'suggest': 519,\n",
       " 'crisis': 520,\n",
       " 'online': 521,\n",
       " 'judge': 522,\n",
       " 'instead': 523,\n",
       " '2016': 524,\n",
       " 'add': 525,\n",
       " 'anything': 526,\n",
       " 'catch': 527,\n",
       " 'university': 528,\n",
       " 'benefit': 529,\n",
       " 'appear': 530,\n",
       " 'among': 531,\n",
       " 'brain': 532,\n",
       " 'train': 533,\n",
       " 'opportunity': 534,\n",
       " 'mark': 535,\n",
       " 'muslim': 536,\n",
       " 'loss': 537,\n",
       " 'congress': 538,\n",
       " 'possible': 539,\n",
       " 'park': 540,\n",
       " 'fast': 541,\n",
       " 'federal': 542,\n",
       " 'inside': 543,\n",
       " 'protect': 544,\n",
       " 'culture': 545,\n",
       " 'michael': 546,\n",
       " 'ad': 547,\n",
       " 'pinterest': 548,\n",
       " 'amaze': 549,\n",
       " 'global': 550,\n",
       " 'animal': 551,\n",
       " 'center': 552,\n",
       " 'success': 553,\n",
       " 'doctor': 554,\n",
       " 'sense': 555,\n",
       " 'program': 556,\n",
       " 'bite': 557,\n",
       " 'decide': 558,\n",
       " 'present': 559,\n",
       " 'treat': 560,\n",
       " 'strong': 561,\n",
       " 'paul': 562,\n",
       " 'process': 563,\n",
       " 'march': 564,\n",
       " 'whole': 565,\n",
       " 'democratic': 566,\n",
       " 'instagram': 567,\n",
       " 'wonder': 568,\n",
       " 'maybe': 569,\n",
       " 'victim': 570,\n",
       " 'sport': 571,\n",
       " 'com': 572,\n",
       " 'worker': 573,\n",
       " 'clear': 574,\n",
       " 'level': 575,\n",
       " 'increase': 576,\n",
       " 'join': 577,\n",
       " 'serve': 578,\n",
       " 'russia': 579,\n",
       " 'song': 580,\n",
       " 'provide': 581,\n",
       " 'patient': 582,\n",
       " 'winter': 583,\n",
       " 'teacher': 584,\n",
       " 'term': 585,\n",
       " 'reach': 586,\n",
       " 'prove': 587,\n",
       " 'anyone': 588,\n",
       " 'design': 589,\n",
       " 'avoid': 590,\n",
       " 'recently': 591,\n",
       " 'effort': 592,\n",
       " 'forget': 593,\n",
       " 'senator': 594,\n",
       " 'bank': 595,\n",
       " 'seek': 596,\n",
       " 'struggle': 597,\n",
       " 'rock': 598,\n",
       " 'receive': 599,\n",
       " 'link': 600,\n",
       " 'administration': 601,\n",
       " 'able': 602,\n",
       " 'supreme': 603,\n",
       " 'trend': 604,\n",
       " 'expert': 605,\n",
       " 'accuse': 606,\n",
       " 'sound': 607,\n",
       " 'announce': 608,\n",
       " 'warn': 609,\n",
       " 'nearly': 610,\n",
       " 'half': 611,\n",
       " 'industry': 612,\n",
       " 'vacation': 613,\n",
       " 'chance': 614,\n",
       " 'realize': 615,\n",
       " '100': 616,\n",
       " 'protest': 617,\n",
       " 'clean': 618,\n",
       " 'exercise': 619,\n",
       " 'local': 620,\n",
       " 'paris': 621,\n",
       " 'powerful': 622,\n",
       " 'push': 623,\n",
       " 'town': 624,\n",
       " 'feature': 625,\n",
       " 'sunday': 626,\n",
       " 'cool': 627,\n",
       " 'enjoy': 628,\n",
       " 'class': 629,\n",
       " 'cop': 630,\n",
       " 'science': 631,\n",
       " 'decade': 632,\n",
       " 'cook': 633,\n",
       " 'drop': 634,\n",
       " 'energy': 635,\n",
       " 'attention': 636,\n",
       " 'picture': 637,\n",
       " 'conversation': 638,\n",
       " 'lie': 639,\n",
       " 'hop': 640,\n",
       " '50': 641,\n",
       " 'middle': 642,\n",
       " 'bernie': 643,\n",
       " 'battle': 644,\n",
       " 'wife': 645,\n",
       " 'china': 646,\n",
       " 'however': 647,\n",
       " 'despite': 648,\n",
       " '30': 649,\n",
       " 'arrest': 650,\n",
       " 'project': 651,\n",
       " 'welcome': 652,\n",
       " 'beach': 653,\n",
       " 'bar': 654,\n",
       " 'officer': 655,\n",
       " 'international': 656,\n",
       " 'comment': 657,\n",
       " 'store': 658,\n",
       " 'texas': 659,\n",
       " 'safe': 660,\n",
       " 'mental': 661,\n",
       " 'oscar': 662,\n",
       " 'advice': 663,\n",
       " 'goal': 664,\n",
       " 'image': 665,\n",
       " 'promise': 666,\n",
       " 'west': 667,\n",
       " 'remain': 668,\n",
       " 'road': 669,\n",
       " 'beyond': 670,\n",
       " 'internet': 671,\n",
       " 'hate': 672,\n",
       " 'worth': 673,\n",
       " 'yoga': 674,\n",
       " 'career': 675,\n",
       " 'ex': 676,\n",
       " 'six': 677,\n",
       " 'dinner': 678,\n",
       " 'sweet': 679,\n",
       " 'note': 680,\n",
       " 'worry': 681,\n",
       " 'adult': 682,\n",
       " 'thousand': 683,\n",
       " 'sell': 684,\n",
       " 'especially': 685,\n",
       " 'network': 686,\n",
       " 'actor': 687,\n",
       " 'v': 688,\n",
       " 'voice': 689,\n",
       " 'spot': 690,\n",
       " 'speech': 691,\n",
       " 'green': 692,\n",
       " 'actress': 693,\n",
       " 'touch': 694,\n",
       " 'deep': 695,\n",
       " 'lgbt': 696,\n",
       " 'island': 697,\n",
       " 'rather': 698,\n",
       " 'researcher': 699,\n",
       " 'ryan': 700,\n",
       " 'value': 701,\n",
       " 'dance': 702,\n",
       " 'medical': 703,\n",
       " 'response': 704,\n",
       " 'else': 705,\n",
       " 'florida': 706,\n",
       " 'land': 707,\n",
       " 'wish': 708,\n",
       " 'player': 709,\n",
       " 'throw': 710,\n",
       " 'launch': 711,\n",
       " 'prepare': 712,\n",
       " 'hollywood': 713,\n",
       " 'fund': 714,\n",
       " 'reportedly': 715,\n",
       " 'concern': 716,\n",
       " 'kim': 717,\n",
       " 'rest': 718,\n",
       " 'form': 719,\n",
       " 'price': 720,\n",
       " 'financial': 721,\n",
       " 'restaurant': 722,\n",
       " 'david': 723,\n",
       " 'strike': 724,\n",
       " 'assault': 725,\n",
       " 'lady': 726,\n",
       " 'address': 727,\n",
       " 'military': 728,\n",
       " 'along': 729,\n",
       " 'birthday': 730,\n",
       " 'meditation': 731,\n",
       " 'listen': 732,\n",
       " 'treatment': 733,\n",
       " 'outside': 734,\n",
       " 'general': 735,\n",
       " 'kate': 736,\n",
       " 'product': 737,\n",
       " 'diet': 738,\n",
       " 'affect': 739,\n",
       " '2015': 740,\n",
       " 'effect': 741,\n",
       " 'phone': 742,\n",
       " 'flight': 743,\n",
       " 'department': 744,\n",
       " 'impact': 745,\n",
       " 'press': 746,\n",
       " 'abuse': 747,\n",
       " 'c': 748,\n",
       " 'front': 749,\n",
       " 'involve': 750,\n",
       " 'bowl': 751,\n",
       " 'female': 752,\n",
       " 'several': 753,\n",
       " 'threat': 754,\n",
       " 'improve': 755,\n",
       " 'brown': 756,\n",
       " 'fill': 757,\n",
       " 'singer': 758,\n",
       " 'birth': 759,\n",
       " 'beat': 760,\n",
       " 'figure': 761,\n",
       " 'happiness': 762,\n",
       " 'la': 763,\n",
       " 'festival': 764,\n",
       " 'box': 765,\n",
       " 'near': 766,\n",
       " 'king': 767,\n",
       " 'russian': 768,\n",
       " 'forward': 769,\n",
       " 'require': 770,\n",
       " 'discover': 771,\n",
       " 'update': 772,\n",
       " 'technology': 773,\n",
       " 'pain': 774,\n",
       " 'chief': 775,\n",
       " 'review': 776,\n",
       " 'fly': 777,\n",
       " 'alone': 778,\n",
       " '13': 779,\n",
       " 'mistake': 780,\n",
       " 'london': 781,\n",
       " 'brand': 782,\n",
       " 'san': 783,\n",
       " 'designer': 784,\n",
       " 'society': 785,\n",
       " 'third': 786,\n",
       " 'magazine': 787,\n",
       " 'pull': 788,\n",
       " 'suspect': 789,\n",
       " 'aid': 790,\n",
       " 'dark': 791,\n",
       " 'piece': 792,\n",
       " 'earth': 793,\n",
       " 'ahead': 794,\n",
       " 'apple': 795,\n",
       " 'ice': 796,\n",
       " 'area': 797,\n",
       " 'simply': 798,\n",
       " 'fit': 799,\n",
       " 'peace': 800,\n",
       " 'saturday': 801,\n",
       " 'target': 802,\n",
       " 'tie': 803,\n",
       " 'thanksgiving': 804,\n",
       " 'scene': 805,\n",
       " 'imagine': 806,\n",
       " 'search': 807,\n",
       " 'within': 808,\n",
       " 'strange': 809,\n",
       " 'quite': 810,\n",
       " 'draw': 811,\n",
       " 'politics': 812,\n",
       " 'emotional': 813,\n",
       " 'truly': 814,\n",
       " 'suffer': 815,\n",
       " 'card': 816,\n",
       " 'hide': 817,\n",
       " 'refugee': 818,\n",
       " 'fox': 819,\n",
       " 'difference': 820,\n",
       " 'tour': 821,\n",
       " 'co': 822,\n",
       " 'foot': 823,\n",
       " 'popular': 824,\n",
       " 'blue': 825,\n",
       " 'stick': 826,\n",
       " 'clothe': 827,\n",
       " 'performance': 828,\n",
       " 'soon': 829,\n",
       " 'taste': 830,\n",
       " 'serious': 831,\n",
       " 'nominee': 832,\n",
       " 'warm': 833,\n",
       " 'movement': 834,\n",
       " 'tumblr': 835,\n",
       " 'july': 836,\n",
       " 'billion': 837,\n",
       " 'felt': 838,\n",
       " 'activist': 839,\n",
       " 'blame': 840,\n",
       " 'positive': 841,\n",
       " 'hospital': 842,\n",
       " 'halloween': 843,\n",
       " 'god': 844,\n",
       " 'please': 845,\n",
       " 'develop': 846,\n",
       " 'roll': 847,\n",
       " 'gender': 848,\n",
       " 'journey': 849,\n",
       " 'data': 850,\n",
       " 'governor': 851,\n",
       " 'huge': 852,\n",
       " 'approach': 853,\n",
       " 'oil': 854,\n",
       " 'airline': 855,\n",
       " 'natural': 856,\n",
       " 'pop': 857,\n",
       " 'credit': 858,\n",
       " 'pound': 859,\n",
       " 'cat': 860,\n",
       " 'st': 861,\n",
       " 'rich': 862,\n",
       " 'generation': 863,\n",
       " 'information': 864,\n",
       " 'de': 865,\n",
       " 'chris': 866,\n",
       " 'conservative': 867,\n",
       " 'crazy': 868,\n",
       " 'monday': 869,\n",
       " 'jimmy': 870,\n",
       " 'non': 871,\n",
       " 'budget': 872,\n",
       " 'engage': 873,\n",
       " 'difficult': 874,\n",
       " 'size': 875,\n",
       " 'union': 876,\n",
       " 'click': 877,\n",
       " 'scientist': 878,\n",
       " 'discus': 879,\n",
       " 'habit': 880,\n",
       " 'hill': 881,\n",
       " 'exactly': 882,\n",
       " 'tuesday': 883,\n",
       " 'century': 884,\n",
       " '25': 885,\n",
       " 'character': 886,\n",
       " 'isi': 887,\n",
       " 'wake': 888,\n",
       " 'economy': 889,\n",
       " 'employee': 890,\n",
       " 'demand': 891,\n",
       " 'church': 892,\n",
       " 'perhaps': 893,\n",
       " 'shape': 894,\n",
       " 'access': 895,\n",
       " '14': 896,\n",
       " 'final': 897,\n",
       " 'skin': 898,\n",
       " 'kardashian': 899,\n",
       " 'admit': 900,\n",
       " 'partner': 901,\n",
       " 'deserve': 902,\n",
       " 'stun': 903,\n",
       " 'freedom': 904,\n",
       " 'transgender': 905,\n",
       " 'ceo': 906,\n",
       " 'korea': 907,\n",
       " 'joy': 908,\n",
       " 'stuff': 909,\n",
       " 'legal': 910,\n",
       " 'obamacare': 911,\n",
       " 'executive': 912,\n",
       " 'hurt': 913,\n",
       " 'attempt': 914,\n",
       " 'cold': 915,\n",
       " 'iran': 916,\n",
       " 'rat': 917,\n",
       " 'secretary': 918,\n",
       " 'screen': 919,\n",
       " 'soul': 920,\n",
       " 'prevent': 921,\n",
       " 'prison': 922,\n",
       " 'connect': 923,\n",
       " 'modern': 924,\n",
       " 'explore': 925,\n",
       " 'economic': 926,\n",
       " 'author': 927,\n",
       " 'type': 928,\n",
       " 'organization': 929,\n",
       " 'fix': 930,\n",
       " 'trade': 931,\n",
       " 'remind': 932,\n",
       " 'gain': 933,\n",
       " 'agree': 934,\n",
       " 'memory': 935,\n",
       " '24': 936,\n",
       " 'crime': 937,\n",
       " 'arm': 938,\n",
       " 'behavior': 939,\n",
       " 'cruz': 940,\n",
       " 'weather': 941,\n",
       " 'carry': 942,\n",
       " 'george': 943,\n",
       " 'embrace': 944,\n",
       " 'sale': 945,\n",
       " 'immigrant': 946,\n",
       " 'respond': 947,\n",
       " 'limit': 948,\n",
       " 'wine': 949,\n",
       " 'ring': 950,\n",
       " 'accept': 951,\n",
       " 'kitchen': 952,\n",
       " 'spirit': 953,\n",
       " 'veteran': 954,\n",
       " 'publish': 955,\n",
       " 'cake': 956,\n",
       " 'workout': 957,\n",
       " 'nature': 958,\n",
       " 'guest': 959,\n",
       " 'wedding': 960,\n",
       " 'valentine': 961,\n",
       " 'tom': 962,\n",
       " 'trans': 963,\n",
       " 'kick': 964,\n",
       " 'famous': 965,\n",
       " 'nfl': 966,\n",
       " 'strategy': 967,\n",
       " 'bride': 968,\n",
       " 'solution': 969,\n",
       " 'defend': 970,\n",
       " 'hundred': 971,\n",
       " 'dangerous': 972,\n",
       " 'attorney': 973,\n",
       " 'trust': 974,\n",
       " 'lawyer': 975,\n",
       " 'meal': 976,\n",
       " 'adorable': 977,\n",
       " 'bomb': 978,\n",
       " 'murder': 979,\n",
       " 'funny': 980,\n",
       " 'immigration': 981,\n",
       " 'toward': 982,\n",
       " 'lawmaker': 983,\n",
       " 'threaten': 984,\n",
       " 'dr': 985,\n",
       " 'k': 986,\n",
       " 'brother': 987,\n",
       " 'board': 988,\n",
       " 'investigation': 989,\n",
       " 'although': 990,\n",
       " 'condition': 991,\n",
       " 'scott': 992,\n",
       " 'relate': 993,\n",
       " 'situation': 994,\n",
       " 'football': 995,\n",
       " 'smart': 996,\n",
       " 'either': 997,\n",
       " 'j': 998,\n",
       " 'east': 999,\n",
       " 'option': 1000,\n",
       " ...}"
      ]
     },
     "execution_count": 119,
     "metadata": {},
     "output_type": "execute_result"
    }
   ],
   "source": [
    "tokenizer.word_index"
   ]
  },
  {
   "cell_type": "code",
   "execution_count": 120,
   "id": "a17bb30a",
   "metadata": {},
   "outputs": [
    {
     "data": {
      "text/plain": [
       "64810"
      ]
     },
     "execution_count": 120,
     "metadata": {},
     "output_type": "execute_result"
    }
   ],
   "source": [
    "vocab_siz=len(tokenizer.word_index)\n",
    "vocab_siz"
   ]
  },
  {
   "cell_type": "code",
   "execution_count": 121,
   "id": "e4c30f80",
   "metadata": {},
   "outputs": [],
   "source": [
    "x_train_tokenized=tokenizer.texts_to_sequences(x_train)\n",
    "x_test_tokenized=tokenizer.texts_to_sequences(x_test)"
   ]
  },
  {
   "cell_type": "code",
   "execution_count": 122,
   "id": "7c489d52",
   "metadata": {},
   "outputs": [
    {
     "data": {
      "image/png": "[encoded data removed]",
      "text/plain": [
       "<Figure size 432x288 with 1 Axes>"
      ]
     },
     "metadata": {
      "needs_background": "light"
     },
     "output_type": "display_data"
    }
   ],
   "source": [
    "import matplotlib.pyplot as plt\n",
    "plt.hist([len(s) for s in x_train_tokenized],bins=60);"
   ]
  },
  {
   "cell_type": "code",
   "execution_count": 123,
   "id": "2528aeca",
   "metadata": {},
   "outputs": [],
   "source": [
    "from tensorflow.keras.preprocessing.sequence import pad_sequences\n",
    "x_train_padded=pad_sequences(x_train_tokenized, maxlen=50, padding='post',truncating='post')\n",
    "x_test_padded=pad_sequences(x_test_tokenized, maxlen=50, padding='post',truncating='post')"
   ]
  },
  {
   "cell_type": "code",
   "execution_count": 124,
   "id": "0f2b207f",
   "metadata": {},
   "outputs": [],
   "source": [
    "model=tf.keras.models.Sequential([\n",
    "    \n",
    "    tf.keras.layers.Embedding(vocab_siz+1,128),\n",
    "    tf.keras.layers.Bidirectional(tf.keras.layers.GRU(128,return_sequences=True,recurrent_dropout=0.1)),\n",
    "    tf.keras.layers.Bidirectional(tf.keras.layers.GRU(64,)),\n",
    "    tf.keras.layers.Dense(64, activation='relu'),\n",
    "    tf.keras.layers.Dense(41, activation='softmax')   \n",
    "])"
   ]
  },
  {
   "cell_type": "code",
   "execution_count": 125,
   "id": "f3936eeb",
   "metadata": {},
   "outputs": [
    {
     "name": "stderr",
     "output_type": "stream",
     "text": [
      "C:\\Users\\Honda\\anaconda3\\lib\\site-packages\\keras\\optimizer_v2\\adam.py:105: UserWarning: The `lr` argument is deprecated, use `learning_rate` instead.\n",
      "  super(Adam, self).__init__(name, **kwargs)\n"
     ]
    }
   ],
   "source": [
    "from tensorflow.keras.optimizers import RMSprop,Adam\n",
    "model.compile(optimizer= Adam(lr=0.0005),\n",
    "              loss= keras.losses.categorical_crossentropy,\n",
    "              metrics= [keras.metrics.AUC()])"
   ]
  },
  {
   "cell_type": "code",
   "execution_count": null,
   "id": "b49bf28b",
   "metadata": {},
   "outputs": [
    {
     "name": "stdout",
     "output_type": "stream",
     "text": [
      "Epoch 1/5\n",
      "5636/5636 [==============================] - 2280s 403ms/step - loss: 1.9338 - auc_2: 0.9225 - val_loss: 1.5514 - val_auc_2: 0.9494\n",
      "Epoch 2/5\n",
      "5636/5636 [==============================] - 1580s 280ms/step - loss: 1.3767 - auc_2: 0.9596 - val_loss: 1.3648 - val_auc_2: 0.9597\n",
      "Epoch 3/5\n",
      "5636/5636 [==============================] - 1583s 281ms/step - loss: 1.1908 - auc_2: 0.9693 - val_loss: 1.3176 - val_auc_2: 0.9613\n",
      "Epoch 4/5\n",
      "5636/5636 [==============================] - 1750s 310ms/step - loss: 1.0670 - auc_2: 0.9748 - val_loss: 1.3347 - val_auc_2: 0.9587\n",
      "Epoch 5/5\n",
      "3459/5636 [=================>............] - ETA: 11:36 - loss: 0.9395 - auc_2: 0.9799"
     ]
    }
   ],
   "source": [
    "model.fit(x_train_padded,train_labels,epochs=5,validation_data=(x_test_padded,test_labels))"
   ]
  },
  {
   "cell_type": "markdown",
   "id": "fee1b115",
   "metadata": {},
   "source": [
    "# GLOVE features+LSTM architecture"
   ]
  },
  {
   "cell_type": "code",
   "execution_count": null,
   "id": "7c941c0a",
   "metadata": {},
   "outputs": [],
   "source": [
    "! pip install -U spacy\n",
    "! python -m spacy download en_core_web_md\n",
    "import spacy"
   ]
  },
  {
   "cell_type": "code",
   "execution_count": null,
   "id": "d02dacbd",
   "metadata": {},
   "outputs": [],
   "source": [
    "x_train_v = np.zeros((len(x_train), 300))\n",
    "x_test_v = np.zeros((len(x_test), 300))\n",
    "\n",
    "for i, doc in tqdm(enumerate(nlp.pipe(x_train)), total=len(x_train)):\n",
    "    x_train_v[i, :] = doc.vector\n",
    "\n",
    "for i, doc in tqdm(enumerate(nlp.pipe(x_test)), total=len(x_test)):\n",
    "    x_test_v[i, :] = doc.vector"
   ]
  },
  {
   "cell_type": "code",
   "execution_count": null,
   "id": "15e9caeb",
   "metadata": {},
   "outputs": [],
   "source": [
    "x_train_padded=pad_sequences(x_train_v, maxlen=50, padding='post',truncating='post')\n",
    "x_test_padded=pad_sequences(x_test_v, maxlen=50, padding='post',truncating='post')"
   ]
  },
  {
   "cell_type": "code",
   "execution_count": null,
   "id": "1eca9916",
   "metadata": {},
   "outputs": [],
   "source": [
    "model_2=tf.keras.models.Sequential([\n",
    "    \n",
    "    tf.keras.layers.Embedding(vocab_siz+1,64),\n",
    "    tf.keras.layers.Bidirectional(tf.keras.layers.GRU(64,return_sequences=True,recurrent_dropout=0.1)),\n",
    "    tf.keras.layers.Bidirectional(tf.keras.layers.GRU(64,)),\n",
    "    tf.keras.layers.Dense(64, activation='relu'),\n",
    "    tf.keras.layers.Dense(41, activation='softmax')   \n",
    "])"
   ]
  },
  {
   "cell_type": "code",
   "execution_count": null,
   "id": "46c47767",
   "metadata": {},
   "outputs": [],
   "source": [
    "from tensorflow.keras.optimizers import RMSprop,Adam\n",
    "model_2.compile(optimizer= Adam(),\n",
    "              loss= keras.losses.categorical_crossentropy,\n",
    "              metrics= [keras.metrics.AUC()])"
   ]
  },
  {
   "cell_type": "code",
   "execution_count": null,
   "id": "82f77fc0",
   "metadata": {},
   "outputs": [],
   "source": [
    "model_2.fit(x_train_padded,train_labels,epochs=5,validation_data=(x_test_padded,test_labels))"
   ]
  },
  {
   "cell_type": "code",
   "execution_count": 1,
   "id": "7ce8edd1",
   "metadata": {},
   "outputs": [],
   "source": [
    "def predict(text,model, padding_size):\n",
    "  tokenized_text=tokenizer.texts_to_sequences(text)\n",
    "  padded_text=pad_sequences(tokenized_text, maxlen=padding_size, padding='post',truncating='post')\n",
    "  predicton = np.argmax(model.predict(X), axis=-1) \n",
    "  return prediction"
   ]
  },
  {
   "cell_type": "code",
   "execution_count": 2,
   "id": "daa8a44e",
   "metadata": {},
   "outputs": [
    {
     "ename": "NameError",
     "evalue": "name 'x_test' is not defined",
     "output_type": "error",
     "traceback": [
      "\u001b[1;31m---------------------------------------------------------------------------\u001b[0m",
      "\u001b[1;31mNameError\u001b[0m                                 Traceback (most recent call last)",
      "\u001b[1;32m<ipython-input-2-c29a4dfe59ca>\u001b[0m in \u001b[0;36m<module>\u001b[1;34m\u001b[0m\n\u001b[1;32m----> 1\u001b[1;33m \u001b[0mtext\u001b[0m\u001b[1;33m=\u001b[0m\u001b[0mx_test\u001b[0m\u001b[1;33m.\u001b[0m\u001b[0msample\u001b[0m\u001b[1;33m(\u001b[0m\u001b[1;36m1\u001b[0m\u001b[1;33m)\u001b[0m\u001b[1;33m\u001b[0m\u001b[1;33m\u001b[0m\u001b[0m\n\u001b[0m\u001b[0;32m      2\u001b[0m \u001b[0mpadding_size\u001b[0m\u001b[1;33m=\u001b[0m\u001b[1;36m50\u001b[0m\u001b[1;33m\u001b[0m\u001b[1;33m\u001b[0m\u001b[0m\n\u001b[0;32m      3\u001b[0m \u001b[0mpredict\u001b[0m\u001b[1;33m(\u001b[0m\u001b[0mtext\u001b[0m\u001b[1;33m,\u001b[0m\u001b[0mmodel_2\u001b[0m\u001b[1;33m,\u001b[0m\u001b[0mpadding_size\u001b[0m\u001b[1;33m)\u001b[0m\u001b[1;33m\u001b[0m\u001b[1;33m\u001b[0m\u001b[0m\n",
      "\u001b[1;31mNameError\u001b[0m: name 'x_test' is not defined"
     ]
    }
   ],
   "source": [
    "text=.sample(1)\n",
    "padding_size=50\n",
    "predict(text,model_2,padding_size)"
   ]
  },
  {
   "cell_type": "code",
   "execution_count": null,
   "id": "938a1e95",
   "metadata": {},
   "outputs": [],
   "source": []
  }
 ],
 "metadata": {
  "kernelspec": {
   "display_name": "Python 3",
   "language": "python",
   "name": "python3"
  },
  "language_info": {
   "codemirror_mode": {
    "name": "ipython",
    "version": 3
   },
   "file_extension": ".py",
   "mimetype": "text/x-python",
   "name": "python",
   "nbconvert_exporter": "python",
   "pygments_lexer": "ipython3",
   "version": "3.8.3"
  }
 },
 "nbformat": 4,
 "nbformat_minor": 5
}
