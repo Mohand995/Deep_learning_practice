{
  "cells": [
    {
      "cell_type": "markdown",
      "metadata": {
        "id": "view-in-github",
        "colab_type": "text"
      },
      "source": [
        "<a href=\"https://colab.research.google.com/github/mohandabdelhalim99/Deep_learning_practice/blob/main/NLP_BOW.ipynb\" target=\"_parent\"><img src=\"https://colab.research.google.com/assets/colab-badge.svg\" alt=\"Open In Colab\"/></a>"
      ]
    },
    {
      "cell_type": "markdown",
      "metadata": {
        "id": "iRfJFLmOxeBp"
      },
      "source": [
        "**Read_Data**"
      ]
    },
    {
      "cell_type": "code",
      "execution_count": 226,
      "metadata": {
        "id": "SE39Q69TxoGw",
        "colab": {
          "base_uri": "https://localhost:8080/"
        },
        "outputId": "54254273-1cf2-41c5-fff7-ba58c7b1363f"
      },
      "outputs": [
        {
          "output_type": "stream",
          "name": "stderr",
          "text": [
            "[nltk_data] Downloading package omw-1.4 to /root/nltk_data...\n",
            "[nltk_data]   Package omw-1.4 is already up-to-date!\n",
            "[nltk_data] Downloading package wordnet to /root/nltk_data...\n",
            "[nltk_data]   Package wordnet is already up-to-date!\n"
          ]
        }
      ],
      "source": [
        "import pandas as pd\n",
        "import nltk\n",
        "import re\n",
        "nltk.download('omw-1.4')\n",
        "from nltk.stem import WordNetLemmatizer\n",
        "nltk.download('wordnet')\n",
        "from nltk.stem.porter import PorterStemmer\n",
        "from nltk.tokenize import word_tokenize\n",
        "from nltk.corpus import stopwords\n",
        "from nltk.corpus import wordnet\n",
        "import keras"
      ]
    },
    {
      "cell_type": "code",
      "execution_count": 227,
      "metadata": {
        "id": "QGOWOxfMwY1W"
      },
      "outputs": [],
      "source": [
        "tweets=pd.read_csv(\"train.csv\", usecols=['text','target'])"
      ]
    },
    {
      "cell_type": "code",
      "execution_count": 228,
      "metadata": {
        "colab": {
          "base_uri": "https://localhost:8080/",
          "height": 206
        },
        "id": "W5jDX28gxmwI",
        "outputId": "aca2bbb1-8ae7-45e0-eab4-b793051051ab"
      },
      "outputs": [
        {
          "output_type": "execute_result",
          "data": {
            "text/plain": [
              "                                                text  target\n",
              "0  Our Deeds are the Reason of this #earthquake M...       1\n",
              "1             Forest fire near La Ronge Sask. Canada       1\n",
              "2  All residents asked to 'shelter in place' are ...       1\n",
              "3  13,000 people receive #wildfires evacuation or...       1\n",
              "4  Just got sent this photo from Ruby #Alaska as ...       1"
            ],
            "text/html": [
              "\n",
              "  <div id=\"df-8467a904-63aa-4900-97a9-a07fde7bc8cd\">\n",
              "    <div class=\"colab-df-container\">\n",
              "      <div>\n",
              "<style scoped>\n",
              "    .dataframe tbody tr th:only-of-type {\n",
              "        vertical-align: middle;\n",
              "    }\n",
              "\n",
              "    .dataframe tbody tr th {\n",
              "        vertical-align: top;\n",
              "    }\n",
              "\n",
              "    .dataframe thead th {\n",
              "        text-align: right;\n",
              "    }\n",
              "</style>\n",
              "<table border=\"1\" class=\"dataframe\">\n",
              "  <thead>\n",
              "    <tr style=\"text-align: right;\">\n",
              "      <th></th>\n",
              "      <th>text</th>\n",
              "      <th>target</th>\n",
              "    </tr>\n",
              "  </thead>\n",
              "  <tbody>\n",
              "    <tr>\n",
              "      <th>0</th>\n",
              "      <td>Our Deeds are the Reason of this #earthquake M...</td>\n",
              "      <td>1</td>\n",
              "    </tr>\n",
              "    <tr>\n",
              "      <th>1</th>\n",
              "      <td>Forest fire near La Ronge Sask. Canada</td>\n",
              "      <td>1</td>\n",
              "    </tr>\n",
              "    <tr>\n",
              "      <th>2</th>\n",
              "      <td>All residents asked to 'shelter in place' are ...</td>\n",
              "      <td>1</td>\n",
              "    </tr>\n",
              "    <tr>\n",
              "      <th>3</th>\n",
              "      <td>13,000 people receive #wildfires evacuation or...</td>\n",
              "      <td>1</td>\n",
              "    </tr>\n",
              "    <tr>\n",
              "      <th>4</th>\n",
              "      <td>Just got sent this photo from Ruby #Alaska as ...</td>\n",
              "      <td>1</td>\n",
              "    </tr>\n",
              "  </tbody>\n",
              "</table>\n",
              "</div>\n",
              "      <button class=\"colab-df-convert\" onclick=\"convertToInteractive('df-8467a904-63aa-4900-97a9-a07fde7bc8cd')\"\n",
              "              title=\"Convert this dataframe to an interactive table.\"\n",
              "              style=\"display:none;\">\n",
              "        \n",
              "  <svg xmlns=\"http://www.w3.org/2000/svg\" height=\"24px\"viewBox=\"0 0 24 24\"\n",
              "       width=\"24px\">\n",
              "    <path d=\"M0 0h24v24H0V0z\" fill=\"none\"/>\n",
              "    <path d=\"M18.56 5.44l.94 2.06.94-2.06 2.06-.94-2.06-.94-.94-2.06-.94 2.06-2.06.94zm-11 1L8.5 8.5l.94-2.06 2.06-.94-2.06-.94L8.5 2.5l-.94 2.06-2.06.94zm10 10l.94 2.06.94-2.06 2.06-.94-2.06-.94-.94-2.06-.94 2.06-2.06.94z\"/><path d=\"M17.41 7.96l-1.37-1.37c-.4-.4-.92-.59-1.43-.59-.52 0-1.04.2-1.43.59L10.3 9.45l-7.72 7.72c-.78.78-.78 2.05 0 2.83L4 21.41c.39.39.9.59 1.41.59.51 0 1.02-.2 1.41-.59l7.78-7.78 2.81-2.81c.8-.78.8-2.07 0-2.86zM5.41 20L4 18.59l7.72-7.72 1.47 1.35L5.41 20z\"/>\n",
              "  </svg>\n",
              "      </button>\n",
              "      \n",
              "  <style>\n",
              "    .colab-df-container {\n",
              "      display:flex;\n",
              "      flex-wrap:wrap;\n",
              "      gap: 12px;\n",
              "    }\n",
              "\n",
              "    .colab-df-convert {\n",
              "      background-color: #E8F0FE;\n",
              "      border: none;\n",
              "      border-radius: 50%;\n",
              "      cursor: pointer;\n",
              "      display: none;\n",
              "      fill: #1967D2;\n",
              "      height: 32px;\n",
              "      padding: 0 0 0 0;\n",
              "      width: 32px;\n",
              "    }\n",
              "\n",
              "    .colab-df-convert:hover {\n",
              "      background-color: #E2EBFA;\n",
              "      box-shadow: 0px 1px 2px rgba(60, 64, 67, 0.3), 0px 1px 3px 1px rgba(60, 64, 67, 0.15);\n",
              "      fill: #174EA6;\n",
              "    }\n",
              "\n",
              "    [theme=dark] .colab-df-convert {\n",
              "      background-color: #3B4455;\n",
              "      fill: #D2E3FC;\n",
              "    }\n",
              "\n",
              "    [theme=dark] .colab-df-convert:hover {\n",
              "      background-color: #434B5C;\n",
              "      box-shadow: 0px 1px 3px 1px rgba(0, 0, 0, 0.15);\n",
              "      filter: drop-shadow(0px 1px 2px rgba(0, 0, 0, 0.3));\n",
              "      fill: #FFFFFF;\n",
              "    }\n",
              "  </style>\n",
              "\n",
              "      <script>\n",
              "        const buttonEl =\n",
              "          document.querySelector('#df-8467a904-63aa-4900-97a9-a07fde7bc8cd button.colab-df-convert');\n",
              "        buttonEl.style.display =\n",
              "          google.colab.kernel.accessAllowed ? 'block' : 'none';\n",
              "\n",
              "        async function convertToInteractive(key) {\n",
              "          const element = document.querySelector('#df-8467a904-63aa-4900-97a9-a07fde7bc8cd');\n",
              "          const dataTable =\n",
              "            await google.colab.kernel.invokeFunction('convertToInteractive',\n",
              "                                                     [key], {});\n",
              "          if (!dataTable) return;\n",
              "\n",
              "          const docLinkHtml = 'Like what you see? Visit the ' +\n",
              "            '<a target=\"_blank\" href=https://colab.research.google.com/notebooks/data_table.ipynb>data table notebook</a>'\n",
              "            + ' to learn more about interactive tables.';\n",
              "          element.innerHTML = '';\n",
              "          dataTable['output_type'] = 'display_data';\n",
              "          await google.colab.output.renderOutput(dataTable, element);\n",
              "          const docLink = document.createElement('div');\n",
              "          docLink.innerHTML = docLinkHtml;\n",
              "          element.appendChild(docLink);\n",
              "        }\n",
              "      </script>\n",
              "    </div>\n",
              "  </div>\n",
              "  "
            ]
          },
          "metadata": {},
          "execution_count": 228
        }
      ],
      "source": [
        "tweets.head()"
      ]
    },
    {
      "cell_type": "code",
      "execution_count": 229,
      "metadata": {
        "colab": {
          "base_uri": "https://localhost:8080/",
          "height": 36
        },
        "id": "oWodQGPrxtPb",
        "outputId": "c8add490-de91-4244-f09b-1dd8684df933"
      },
      "outputs": [
        {
          "output_type": "execute_result",
          "data": {
            "text/plain": [
              "'Our Deeds are the Reason of this #earthquake May ALLAH Forgive us all'"
            ],
            "application/vnd.google.colaboratory.intrinsic+json": {
              "type": "string"
            }
          },
          "metadata": {},
          "execution_count": 229
        }
      ],
      "source": [
        "tweets['text'][0]"
      ]
    },
    {
      "cell_type": "markdown",
      "metadata": {
        "id": "sBl_Y4iQyPsh"
      },
      "source": [
        "**text preprocessing**"
      ]
    },
    {
      "cell_type": "code",
      "execution_count": 230,
      "metadata": {
        "colab": {
          "base_uri": "https://localhost:8080/"
        },
        "id": "mzXhZNLTySkT",
        "outputId": "a3423b13-5c75-425b-b918-7e3542970d67"
      },
      "outputs": [
        {
          "output_type": "execute_result",
          "data": {
            "text/plain": [
              "0       [Our, Deeds, are, the, Reason, of, this, #eart...\n",
              "1          [Forest, fire, near, La, Ronge, Sask., Canada]\n",
              "2       [All, residents, asked, to, 'shelter, in, plac...\n",
              "3       [13,000, people, receive, #wildfires, evacuati...\n",
              "4       [Just, got, sent, this, photo, from, Ruby, #Al...\n",
              "                              ...                        \n",
              "7608    [Two, giant, cranes, holding, a, bridge, colla...\n",
              "7609    [@aria_ahrary, @TheTawniest, The, out, of, con...\n",
              "7610    [M1.94, [01:04, UTC]?5km, S, of, Volcano, Hawa...\n",
              "7611    [Police, investigating, after, an, e-bike, col...\n",
              "7612    [The, Latest:, More, Homes, Razed, by, Norther...\n",
              "Name: text, Length: 7613, dtype: object"
            ]
          },
          "metadata": {},
          "execution_count": 230
        }
      ],
      "source": [
        "tweets['text'].str.split()"
      ]
    },
    {
      "cell_type": "markdown",
      "metadata": {
        "id": "4zka28N7ylCV"
      },
      "source": [
        "it seems we have # @ ? and other signs which is we build our vocab\n",
        "\n",
        "on it will increase size of vocab and increase sparsity so data will\n",
        "\n",
        "be more prone to overfit."
      ]
    },
    {
      "cell_type": "code",
      "execution_count": 231,
      "metadata": {
        "colab": {
          "base_uri": "https://localhost:8080/"
        },
        "id": "UmzfyyCky2-Y",
        "outputId": "4069af36-2d52-4e8e-8e43-85a0d1164774"
      },
      "outputs": [
        {
          "output_type": "stream",
          "name": "stderr",
          "text": [
            "[nltk_data] Downloading package punkt to /root/nltk_data...\n",
            "[nltk_data]   Package punkt is already up-to-date!\n"
          ]
        },
        {
          "output_type": "execute_result",
          "data": {
            "text/plain": [
              "True"
            ]
          },
          "metadata": {},
          "execution_count": 231
        }
      ],
      "source": [
        "\n",
        "nltk.download('punkt')"
      ]
    },
    {
      "cell_type": "markdown",
      "source": [
        "**remove links**"
      ],
      "metadata": {
        "id": "V26pJIjWCR-p"
      }
    },
    {
      "cell_type": "code",
      "source": [
        "tweets['text']=tweets['text'].apply(lambda x: re.sub(r'http\\S+', '', x))"
      ],
      "metadata": {
        "id": "4ZL7I9NC_byS"
      },
      "execution_count": 232,
      "outputs": []
    },
    {
      "cell_type": "markdown",
      "source": [
        "**remove punctuations**"
      ],
      "metadata": {
        "id": "cmdHMdcjCWvB"
      }
    },
    {
      "cell_type": "code",
      "execution_count": 233,
      "metadata": {
        "colab": {
          "base_uri": "https://localhost:8080/"
        },
        "id": "IZXk4LcNzfZG",
        "outputId": "c85dc398-25ab-48ec-ad2b-0c92241a9e2b"
      },
      "outputs": [
        {
          "output_type": "stream",
          "name": "stderr",
          "text": [
            "/usr/local/lib/python3.7/dist-packages/ipykernel_launcher.py:1: FutureWarning: The default value of regex will change from True to False in a future version.\n",
            "  \"\"\"Entry point for launching an IPython kernel.\n"
          ]
        }
      ],
      "source": [
        "tweets['text']=tweets['text'].str.replace(r'[^\\w\\s]','')"
      ]
    },
    {
      "cell_type": "code",
      "execution_count": 234,
      "metadata": {
        "colab": {
          "base_uri": "https://localhost:8080/"
        },
        "id": "drpJcmQ30RqO",
        "outputId": "bb698db0-cb07-46b2-a808-094205546d56"
      },
      "outputs": [
        {
          "output_type": "execute_result",
          "data": {
            "text/plain": [
              "0       Our Deeds are the Reason of this earthquake Ma...\n",
              "1                   Forest fire near La Ronge Sask Canada\n",
              "2       All residents asked to shelter in place are be...\n",
              "3       13000 people receive wildfires evacuation orde...\n",
              "4       Just got sent this photo from Ruby Alaska as s...\n",
              "                              ...                        \n",
              "7608    Two giant cranes holding a bridge collapse int...\n",
              "7609    aria_ahrary TheTawniest The out of control wil...\n",
              "7610                M194 0104 UTC5km S of Volcano Hawaii \n",
              "7611    Police investigating after an ebike collided w...\n",
              "7612    The Latest More Homes Razed by Northern Califo...\n",
              "Name: text, Length: 7613, dtype: object"
            ]
          },
          "metadata": {},
          "execution_count": 234
        }
      ],
      "source": [
        "tweets['text']"
      ]
    },
    {
      "cell_type": "markdown",
      "source": [
        "**Remove_stopWords**"
      ],
      "metadata": {
        "id": "FY9wPRCPJKt1"
      }
    },
    {
      "cell_type": "code",
      "source": [
        "\n",
        "nltk.download('stopwords')"
      ],
      "metadata": {
        "colab": {
          "base_uri": "https://localhost:8080/"
        },
        "id": "9D40WwS-1fq7",
        "outputId": "02e1255c-08f6-4885-ff34-b35f2355f360"
      },
      "execution_count": 235,
      "outputs": [
        {
          "output_type": "stream",
          "name": "stderr",
          "text": [
            "[nltk_data] Downloading package stopwords to /root/nltk_data...\n",
            "[nltk_data]   Package stopwords is already up-to-date!\n"
          ]
        },
        {
          "output_type": "execute_result",
          "data": {
            "text/plain": [
              "True"
            ]
          },
          "metadata": {},
          "execution_count": 235
        }
      ]
    },
    {
      "cell_type": "code",
      "source": [
        "stop_words=stopwords.words('english')\n",
        "stop_words"
      ],
      "metadata": {
        "colab": {
          "base_uri": "https://localhost:8080/"
        },
        "id": "LQuAC5pg3EKH",
        "outputId": "b0cca746-3096-4bb2-b82d-7fcf8e9e3fc6"
      },
      "execution_count": 236,
      "outputs": [
        {
          "output_type": "execute_result",
          "data": {
            "text/plain": [
              "['i',\n",
              " 'me',\n",
              " 'my',\n",
              " 'myself',\n",
              " 'we',\n",
              " 'our',\n",
              " 'ours',\n",
              " 'ourselves',\n",
              " 'you',\n",
              " \"you're\",\n",
              " \"you've\",\n",
              " \"you'll\",\n",
              " \"you'd\",\n",
              " 'your',\n",
              " 'yours',\n",
              " 'yourself',\n",
              " 'yourselves',\n",
              " 'he',\n",
              " 'him',\n",
              " 'his',\n",
              " 'himself',\n",
              " 'she',\n",
              " \"she's\",\n",
              " 'her',\n",
              " 'hers',\n",
              " 'herself',\n",
              " 'it',\n",
              " \"it's\",\n",
              " 'its',\n",
              " 'itself',\n",
              " 'they',\n",
              " 'them',\n",
              " 'their',\n",
              " 'theirs',\n",
              " 'themselves',\n",
              " 'what',\n",
              " 'which',\n",
              " 'who',\n",
              " 'whom',\n",
              " 'this',\n",
              " 'that',\n",
              " \"that'll\",\n",
              " 'these',\n",
              " 'those',\n",
              " 'am',\n",
              " 'is',\n",
              " 'are',\n",
              " 'was',\n",
              " 'were',\n",
              " 'be',\n",
              " 'been',\n",
              " 'being',\n",
              " 'have',\n",
              " 'has',\n",
              " 'had',\n",
              " 'having',\n",
              " 'do',\n",
              " 'does',\n",
              " 'did',\n",
              " 'doing',\n",
              " 'a',\n",
              " 'an',\n",
              " 'the',\n",
              " 'and',\n",
              " 'but',\n",
              " 'if',\n",
              " 'or',\n",
              " 'because',\n",
              " 'as',\n",
              " 'until',\n",
              " 'while',\n",
              " 'of',\n",
              " 'at',\n",
              " 'by',\n",
              " 'for',\n",
              " 'with',\n",
              " 'about',\n",
              " 'against',\n",
              " 'between',\n",
              " 'into',\n",
              " 'through',\n",
              " 'during',\n",
              " 'before',\n",
              " 'after',\n",
              " 'above',\n",
              " 'below',\n",
              " 'to',\n",
              " 'from',\n",
              " 'up',\n",
              " 'down',\n",
              " 'in',\n",
              " 'out',\n",
              " 'on',\n",
              " 'off',\n",
              " 'over',\n",
              " 'under',\n",
              " 'again',\n",
              " 'further',\n",
              " 'then',\n",
              " 'once',\n",
              " 'here',\n",
              " 'there',\n",
              " 'when',\n",
              " 'where',\n",
              " 'why',\n",
              " 'how',\n",
              " 'all',\n",
              " 'any',\n",
              " 'both',\n",
              " 'each',\n",
              " 'few',\n",
              " 'more',\n",
              " 'most',\n",
              " 'other',\n",
              " 'some',\n",
              " 'such',\n",
              " 'no',\n",
              " 'nor',\n",
              " 'not',\n",
              " 'only',\n",
              " 'own',\n",
              " 'same',\n",
              " 'so',\n",
              " 'than',\n",
              " 'too',\n",
              " 'very',\n",
              " 's',\n",
              " 't',\n",
              " 'can',\n",
              " 'will',\n",
              " 'just',\n",
              " 'don',\n",
              " \"don't\",\n",
              " 'should',\n",
              " \"should've\",\n",
              " 'now',\n",
              " 'd',\n",
              " 'll',\n",
              " 'm',\n",
              " 'o',\n",
              " 're',\n",
              " 've',\n",
              " 'y',\n",
              " 'ain',\n",
              " 'aren',\n",
              " \"aren't\",\n",
              " 'couldn',\n",
              " \"couldn't\",\n",
              " 'didn',\n",
              " \"didn't\",\n",
              " 'doesn',\n",
              " \"doesn't\",\n",
              " 'hadn',\n",
              " \"hadn't\",\n",
              " 'hasn',\n",
              " \"hasn't\",\n",
              " 'haven',\n",
              " \"haven't\",\n",
              " 'isn',\n",
              " \"isn't\",\n",
              " 'ma',\n",
              " 'mightn',\n",
              " \"mightn't\",\n",
              " 'mustn',\n",
              " \"mustn't\",\n",
              " 'needn',\n",
              " \"needn't\",\n",
              " 'shan',\n",
              " \"shan't\",\n",
              " 'shouldn',\n",
              " \"shouldn't\",\n",
              " 'wasn',\n",
              " \"wasn't\",\n",
              " 'weren',\n",
              " \"weren't\",\n",
              " 'won',\n",
              " \"won't\",\n",
              " 'wouldn',\n",
              " \"wouldn't\"]"
            ]
          },
          "metadata": {},
          "execution_count": 236
        }
      ]
    },
    {
      "cell_type": "code",
      "source": [
        "tweets['text']=tweets['text'].apply(lambda x: [word for word in x.split() if word.lower() not in stop_words])"
      ],
      "metadata": {
        "id": "XM3y5t-Q3ORg"
      },
      "execution_count": 237,
      "outputs": []
    },
    {
      "cell_type": "markdown",
      "source": [
        "**Lemmatizing**"
      ],
      "metadata": {
        "id": "Govjk2jLJQ_B"
      }
    },
    {
      "cell_type": "code",
      "source": [
        "pos_tags = [wordnet.VERB, wordnet.NOUN, wordnet.ADJ, wordnet.ADV]\n",
        "lemmatizer = WordNetLemmatizer()\n",
        "for pos in pos_tags:\n",
        "   tweets['text']=tweets['text'].apply(lambda x:[lemmatizer.lemmatize(word, pos=pos) for word in x])\n",
        "\n"
      ],
      "metadata": {
        "id": "JA63Yy9Z7wPd"
      },
      "execution_count": 238,
      "outputs": []
    },
    {
      "cell_type": "code",
      "source": [
        "tweets['text']"
      ],
      "metadata": {
        "colab": {
          "base_uri": "https://localhost:8080/"
        },
        "id": "I4PU-jVz9dYf",
        "outputId": "fc637ec0-9513-4c34-f949-411f7653e7de"
      },
      "execution_count": 239,
      "outputs": [
        {
          "output_type": "execute_result",
          "data": {
            "text/plain": [
              "0       [Deeds, Reason, earthquake, May, ALLAH, Forgiv...\n",
              "1           [Forest, fire, near, La, Ronge, Sask, Canada]\n",
              "2       [resident, ask, shelter, place, notify, office...\n",
              "3       [13000, people, receive, wildfire, evacuation,...\n",
              "4       [get, send, photo, Ruby, Alaska, smoke, wildfi...\n",
              "                              ...                        \n",
              "7608    [Two, giant, crane, hold, bridge, collapse, ne...\n",
              "7609    [aria_ahrary, TheTawniest, control, wild, fire...\n",
              "7610                [M194, 0104, UTC5km, Volcano, Hawaii]\n",
              "7611    [Police, investigate, ebike, collide, car, Lit...\n",
              "7612    [Latest, Homes, Razed, Northern, California, W...\n",
              "Name: text, Length: 7613, dtype: object"
            ]
          },
          "metadata": {},
          "execution_count": 239
        }
      ]
    },
    {
      "cell_type": "markdown",
      "source": [
        "**Normalization**"
      ],
      "metadata": {
        "id": "A0O-0x_HJEz5"
      }
    },
    {
      "cell_type": "code",
      "source": [
        "tweets['text']=tweets['text'].apply(lambda x:[word.lower() for word in x])"
      ],
      "metadata": {
        "id": "QqnwtVphIAB0"
      },
      "execution_count": 240,
      "outputs": []
    },
    {
      "cell_type": "code",
      "source": [
        "tweets['text']=tweets['text'].apply(lambda x:' '.join(x))"
      ],
      "metadata": {
        "id": "GxTgtVWg-w4c"
      },
      "execution_count": 241,
      "outputs": []
    },
    {
      "cell_type": "code",
      "source": [
        "tweets['text']"
      ],
      "metadata": {
        "colab": {
          "base_uri": "https://localhost:8080/"
        },
        "id": "c3E8J6Ew__Ze",
        "outputId": "bd245488-93d5-44c4-ea68-53ddbf2f459b"
      },
      "execution_count": 242,
      "outputs": [
        {
          "output_type": "execute_result",
          "data": {
            "text/plain": [
              "0             deeds reason earthquake may allah forgive u\n",
              "1                   forest fire near la ronge sask canada\n",
              "2       resident ask shelter place notify officer evac...\n",
              "3       13000 people receive wildfire evacuation order...\n",
              "4       get send photo ruby alaska smoke wildfire pour...\n",
              "                              ...                        \n",
              "7608     two giant crane hold bridge collapse nearby home\n",
              "7609    aria_ahrary thetawniest control wild fire cali...\n",
              "7610                      m194 0104 utc5km volcano hawaii\n",
              "7611    police investigate ebike collide car little po...\n",
              "7612    latest homes razed northern california wildfir...\n",
              "Name: text, Length: 7613, dtype: object"
            ]
          },
          "metadata": {},
          "execution_count": 242
        }
      ]
    },
    {
      "cell_type": "code",
      "source": [
        "from tensorflow.keras.preprocessing.text import Tokenizer\n",
        "tok = Tokenizer(num_words=10000, oov_token='UNK')\n",
        "tok.fit_on_texts(tweets['text'])"
      ],
      "metadata": {
        "id": "npi_h692AKqe"
      },
      "execution_count": 243,
      "outputs": []
    },
    {
      "cell_type": "code",
      "source": [
        "len(tok.word_index)"
      ],
      "metadata": {
        "colab": {
          "base_uri": "https://localhost:8080/"
        },
        "id": "U-f3ncaWE76s",
        "outputId": "41ec0329-2aa5-419d-a691-87be31d930bf"
      },
      "execution_count": 244,
      "outputs": [
        {
          "output_type": "execute_result",
          "data": {
            "text/plain": [
              "16659"
            ]
          },
          "metadata": {},
          "execution_count": 244
        }
      ]
    },
    {
      "cell_type": "code",
      "source": [
        "tok.word_index['UNK']"
      ],
      "metadata": {
        "colab": {
          "base_uri": "https://localhost:8080/"
        },
        "id": "ITXTc6P6FNeT",
        "outputId": "b81477fb-551a-4bc4-d5ad-f00241f87e6c"
      },
      "execution_count": 245,
      "outputs": [
        {
          "output_type": "execute_result",
          "data": {
            "text/plain": [
              "1"
            ]
          },
          "metadata": {},
          "execution_count": 245
        }
      ]
    },
    {
      "cell_type": "code",
      "source": [
        "s = 'Hello World'\n",
        "tok.texts_to_sequences([s.split()])"
      ],
      "metadata": {
        "colab": {
          "base_uri": "https://localhost:8080/"
        },
        "id": "kB4RaXGiFB7H",
        "outputId": "c10591da-8789-452b-b196-3806a84ebaaf"
      },
      "execution_count": 246,
      "outputs": [
        {
          "output_type": "execute_result",
          "data": {
            "text/plain": [
              "[[1344, 54]]"
            ]
          },
          "metadata": {},
          "execution_count": 246
        }
      ]
    },
    {
      "cell_type": "code",
      "source": [
        "from sklearn.model_selection import train_test_split\n",
        "target=tweets[\"target\"]\n",
        "x_train, x_test ,y_train ,y_test = train_test_split(tweets['text'],target,test_size=0.2)"
      ],
      "metadata": {
        "id": "8MXzq4oDFzBN"
      },
      "execution_count": 247,
      "outputs": []
    },
    {
      "cell_type": "code",
      "source": [
        "x_train = tok.texts_to_matrix(x_train, mode='binary')\n",
        "x_test = tok.texts_to_matrix(x_test, mode='binary')"
      ],
      "metadata": {
        "id": "YuYbtFtOKCW0"
      },
      "execution_count": 225,
      "outputs": []
    },
    {
      "cell_type": "code",
      "source": [
        "\n",
        "print(x_train.shape)\n",
        "print(y_train.shape)\n",
        "print(x_test.shape)\n",
        "print(y_test.shape)"
      ],
      "metadata": {
        "colab": {
          "base_uri": "https://localhost:8080/"
        },
        "id": "PJLXMBo9KR83",
        "outputId": "77a87ea7-a98d-4783-dfc4-70c2bf0ad21b"
      },
      "execution_count": 195,
      "outputs": [
        {
          "output_type": "stream",
          "name": "stdout",
          "text": [
            "(6090, 10000)\n",
            "(6090,)\n",
            "(1523, 10000)\n",
            "(1523,)\n"
          ]
        }
      ]
    },
    {
      "cell_type": "markdown",
      "source": [
        "**Build Model**"
      ],
      "metadata": {
        "id": "E2dOHwjbMasm"
      }
    },
    {
      "cell_type": "code",
      "source": [
        "from keras import layers,models\n",
        "\n",
        "model=models.Sequential()\n",
        "model.add(layers.Dense(64,activation='relu',input_shape=(10000,)))\n",
        "model.add(layers.Dense(32,activation='relu'))\n",
        "model.add(layers.Dense(1,activation='sigmoid'))"
      ],
      "metadata": {
        "id": "5RkUmF3SMecr"
      },
      "execution_count": 199,
      "outputs": []
    },
    {
      "cell_type": "code",
      "source": [
        "from tensorflow.keras.optimizers import RMSprop\n",
        "model.compile(optimizer= RMSprop(lr=0.0001),\n",
        "              loss= keras.losses.binary_crossentropy,\n",
        "              metrics= [keras.metrics.binary_accuracy])\n"
      ],
      "metadata": {
        "colab": {
          "base_uri": "https://localhost:8080/"
        },
        "id": "cm0fXUJPNKBY",
        "outputId": "5a48cae9-a54d-4886-82f2-f2d70f3a596b"
      },
      "execution_count": 200,
      "outputs": [
        {
          "output_type": "stream",
          "name": "stderr",
          "text": [
            "/usr/local/lib/python3.7/dist-packages/keras/optimizer_v2/rmsprop.py:130: UserWarning: The `lr` argument is deprecated, use `learning_rate` instead.\n",
            "  super(RMSprop, self).__init__(name, **kwargs)\n"
          ]
        }
      ]
    },
    {
      "cell_type": "code",
      "source": [
        "model.fit(x_train,y_train,epochs=10,validation_data=(x_test,y_test))"
      ],
      "metadata": {
        "colab": {
          "base_uri": "https://localhost:8080/"
        },
        "id": "3f0ATPtrNrMi",
        "outputId": "a453e03e-ac6e-4d1d-e143-58667a5d3a4b"
      },
      "execution_count": 201,
      "outputs": [
        {
          "output_type": "stream",
          "name": "stdout",
          "text": [
            "Epoch 1/10\n",
            "191/191 [==============================] - 3s 12ms/step - loss: 0.6861 - binary_accuracy: 0.6064 - val_loss: 0.6751 - val_binary_accuracy: 0.6454\n",
            "Epoch 2/10\n",
            "191/191 [==============================] - 2s 11ms/step - loss: 0.6589 - binary_accuracy: 0.6713 - val_loss: 0.6426 - val_binary_accuracy: 0.7118\n",
            "Epoch 3/10\n",
            "191/191 [==============================] - 2s 10ms/step - loss: 0.6121 - binary_accuracy: 0.7440 - val_loss: 0.5943 - val_binary_accuracy: 0.7663\n",
            "Epoch 4/10\n",
            "191/191 [==============================] - 2s 11ms/step - loss: 0.5506 - binary_accuracy: 0.7952 - val_loss: 0.5415 - val_binary_accuracy: 0.7879\n",
            "Epoch 5/10\n",
            "191/191 [==============================] - 2s 10ms/step - loss: 0.4868 - binary_accuracy: 0.8223 - val_loss: 0.4986 - val_binary_accuracy: 0.8083\n",
            "Epoch 6/10\n",
            "191/191 [==============================] - 2s 11ms/step - loss: 0.4330 - binary_accuracy: 0.8432 - val_loss: 0.4692 - val_binary_accuracy: 0.8070\n",
            "Epoch 7/10\n",
            "191/191 [==============================] - 2s 10ms/step - loss: 0.3923 - binary_accuracy: 0.8544 - val_loss: 0.4540 - val_binary_accuracy: 0.8122\n",
            "Epoch 8/10\n",
            "191/191 [==============================] - 2s 10ms/step - loss: 0.3626 - binary_accuracy: 0.8611 - val_loss: 0.4487 - val_binary_accuracy: 0.8122\n",
            "Epoch 9/10\n",
            "191/191 [==============================] - 2s 11ms/step - loss: 0.3405 - binary_accuracy: 0.8683 - val_loss: 0.4476 - val_binary_accuracy: 0.8116\n",
            "Epoch 10/10\n",
            "191/191 [==============================] - 2s 10ms/step - loss: 0.3237 - binary_accuracy: 0.8737 - val_loss: 0.4516 - val_binary_accuracy: 0.8024\n"
          ]
        },
        {
          "output_type": "execute_result",
          "data": {
            "text/plain": [
              "<keras.callbacks.History at 0x7f56245bb6d0>"
            ]
          },
          "metadata": {},
          "execution_count": 201
        }
      ]
    },
    {
      "cell_type": "markdown",
      "source": [
        "**Try_freq**"
      ],
      "metadata": {
        "id": "lNyTiYp1PYWT"
      }
    },
    {
      "cell_type": "code",
      "source": [
        "x_train = tok.texts_to_matrix(x_train, mode='freq')\n",
        "x_test = tok.texts_to_matrix(x_test, mode='freq')"
      ],
      "metadata": {
        "id": "UEgP5cRnPbcs"
      },
      "execution_count": 248,
      "outputs": []
    },
    {
      "cell_type": "code",
      "source": [
        "model.fit(x_train,y_train,epochs=10,validation_data=(x_test,y_test))"
      ],
      "metadata": {
        "colab": {
          "base_uri": "https://localhost:8080/"
        },
        "id": "a0xHxcJ-PjyQ",
        "outputId": "e0649030-2e64-4acf-fd1f-e5daa06f47d2"
      },
      "execution_count": 249,
      "outputs": [
        {
          "output_type": "stream",
          "name": "stdout",
          "text": [
            "Epoch 1/10\n",
            "191/191 [==============================] - 3s 18ms/step - loss: 0.5532 - binary_accuracy: 0.7767 - val_loss: 0.5395 - val_binary_accuracy: 0.7761\n",
            "Epoch 2/10\n",
            "191/191 [==============================] - 3s 18ms/step - loss: 0.5173 - binary_accuracy: 0.8071 - val_loss: 0.5094 - val_binary_accuracy: 0.8175\n",
            "Epoch 3/10\n",
            "191/191 [==============================] - 3s 16ms/step - loss: 0.4832 - binary_accuracy: 0.8251 - val_loss: 0.4852 - val_binary_accuracy: 0.8142\n",
            "Epoch 4/10\n",
            "191/191 [==============================] - 2s 12ms/step - loss: 0.4534 - binary_accuracy: 0.8360 - val_loss: 0.4639 - val_binary_accuracy: 0.8181\n",
            "Epoch 5/10\n",
            "191/191 [==============================] - 2s 11ms/step - loss: 0.4281 - binary_accuracy: 0.8450 - val_loss: 0.4484 - val_binary_accuracy: 0.8181\n",
            "Epoch 6/10\n",
            "191/191 [==============================] - 2s 11ms/step - loss: 0.4068 - binary_accuracy: 0.8475 - val_loss: 0.4361 - val_binary_accuracy: 0.8175\n",
            "Epoch 7/10\n",
            "191/191 [==============================] - 2s 11ms/step - loss: 0.3889 - binary_accuracy: 0.8530 - val_loss: 0.4301 - val_binary_accuracy: 0.8135\n",
            "Epoch 8/10\n",
            "191/191 [==============================] - 2s 10ms/step - loss: 0.3753 - binary_accuracy: 0.8540 - val_loss: 0.4232 - val_binary_accuracy: 0.8162\n",
            "Epoch 9/10\n",
            "191/191 [==============================] - 2s 10ms/step - loss: 0.3634 - binary_accuracy: 0.8563 - val_loss: 0.4200 - val_binary_accuracy: 0.8168\n",
            "Epoch 10/10\n",
            "191/191 [==============================] - 2s 10ms/step - loss: 0.3537 - binary_accuracy: 0.8563 - val_loss: 0.4206 - val_binary_accuracy: 0.8162\n"
          ]
        },
        {
          "output_type": "execute_result",
          "data": {
            "text/plain": [
              "<keras.callbacks.History at 0x7f56242b0b10>"
            ]
          },
          "metadata": {},
          "execution_count": 249
        }
      ]
    },
    {
      "cell_type": "markdown",
      "source": [
        "As we can see normalized count(freq) is better in case of overfitting as the model doesn't see large numbers in trainning set\n",
        "\n",
        "> Indented block\n",
        "\n"
      ],
      "metadata": {
        "id": "HX-F_iHcP_eZ"
      }
    },
    {
      "cell_type": "code",
      "source": [
        ""
      ],
      "metadata": {
        "id": "S8TNyiSoQK6g"
      },
      "execution_count": null,
      "outputs": []
    }
  ],
  "metadata": {
    "colab": {
      "name": "NLP_BOW.ipynb",
      "provenance": [],
      "authorship_tag": "ABX9TyPYaVCk0lXRpI32vK14NbdN",
      "include_colab_link": true
    },
    "kernelspec": {
      "display_name": "Python 3",
      "name": "python3"
    },
    "language_info": {
      "name": "python"
    }
  },
  "nbformat": 4,
  "nbformat_minor": 0
}